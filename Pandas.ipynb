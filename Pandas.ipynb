{
 "cells": [
  {
   "cell_type": "markdown",
   "metadata": {},
   "source": [
    "### Pandas practice script"
   ]
  },
  {
   "cell_type": "code",
   "execution_count": 1,
   "metadata": {},
   "outputs": [],
   "source": [
    "import numpy as np \n",
    "import pandas as pd\n",
    "import matplotlib.pyplot as plt"
   ]
  },
  {
   "cell_type": "code",
   "execution_count": 6,
   "metadata": {},
   "outputs": [],
   "source": [
    "movie = pd.read_csv('C:/Users/apiuser/DSMLScripts/Data/IMDB-Movie-Data.csv')"
   ]
  },
  {
   "cell_type": "code",
   "execution_count": 7,
   "metadata": {},
   "outputs": [
    {
     "data": {
      "text/html": [
       "<div>\n",
       "<style scoped>\n",
       "    .dataframe tbody tr th:only-of-type {\n",
       "        vertical-align: middle;\n",
       "    }\n",
       "\n",
       "    .dataframe tbody tr th {\n",
       "        vertical-align: top;\n",
       "    }\n",
       "\n",
       "    .dataframe thead th {\n",
       "        text-align: right;\n",
       "    }\n",
       "</style>\n",
       "<table border=\"1\" class=\"dataframe\">\n",
       "  <thead>\n",
       "    <tr style=\"text-align: right;\">\n",
       "      <th></th>\n",
       "      <th>Rank</th>\n",
       "      <th>Title</th>\n",
       "      <th>Genre</th>\n",
       "      <th>Description</th>\n",
       "      <th>Director</th>\n",
       "      <th>Actors</th>\n",
       "      <th>Year</th>\n",
       "      <th>Runtime (Minutes)</th>\n",
       "      <th>Rating</th>\n",
       "      <th>Votes</th>\n",
       "      <th>Revenue (Millions)</th>\n",
       "      <th>Metascore</th>\n",
       "    </tr>\n",
       "  </thead>\n",
       "  <tbody>\n",
       "    <tr>\n",
       "      <th>0</th>\n",
       "      <td>1</td>\n",
       "      <td>Guardians of the Galaxy</td>\n",
       "      <td>Action,Adventure,Sci-Fi</td>\n",
       "      <td>A group of intergalactic criminals are forced ...</td>\n",
       "      <td>James Gunn</td>\n",
       "      <td>Chris Pratt, Vin Diesel, Bradley Cooper, Zoe S...</td>\n",
       "      <td>2014</td>\n",
       "      <td>121</td>\n",
       "      <td>8.1</td>\n",
       "      <td>757074</td>\n",
       "      <td>333.13</td>\n",
       "      <td>76.0</td>\n",
       "    </tr>\n",
       "    <tr>\n",
       "      <th>1</th>\n",
       "      <td>2</td>\n",
       "      <td>Prometheus</td>\n",
       "      <td>Adventure,Mystery,Sci-Fi</td>\n",
       "      <td>Following clues to the origin of mankind, a te...</td>\n",
       "      <td>Ridley Scott</td>\n",
       "      <td>Noomi Rapace, Logan Marshall-Green, Michael Fa...</td>\n",
       "      <td>2012</td>\n",
       "      <td>124</td>\n",
       "      <td>7.0</td>\n",
       "      <td>485820</td>\n",
       "      <td>126.46</td>\n",
       "      <td>65.0</td>\n",
       "    </tr>\n",
       "    <tr>\n",
       "      <th>2</th>\n",
       "      <td>3</td>\n",
       "      <td>Split</td>\n",
       "      <td>Horror,Thriller</td>\n",
       "      <td>Three girls are kidnapped by a man with a diag...</td>\n",
       "      <td>M. Night Shyamalan</td>\n",
       "      <td>James McAvoy, Anya Taylor-Joy, Haley Lu Richar...</td>\n",
       "      <td>2016</td>\n",
       "      <td>117</td>\n",
       "      <td>7.3</td>\n",
       "      <td>157606</td>\n",
       "      <td>138.12</td>\n",
       "      <td>62.0</td>\n",
       "    </tr>\n",
       "    <tr>\n",
       "      <th>3</th>\n",
       "      <td>4</td>\n",
       "      <td>Sing</td>\n",
       "      <td>Animation,Comedy,Family</td>\n",
       "      <td>In a city of humanoid animals, a hustling thea...</td>\n",
       "      <td>Christophe Lourdelet</td>\n",
       "      <td>Matthew McConaughey,Reese Witherspoon, Seth Ma...</td>\n",
       "      <td>2016</td>\n",
       "      <td>108</td>\n",
       "      <td>7.2</td>\n",
       "      <td>60545</td>\n",
       "      <td>270.32</td>\n",
       "      <td>59.0</td>\n",
       "    </tr>\n",
       "    <tr>\n",
       "      <th>4</th>\n",
       "      <td>5</td>\n",
       "      <td>Suicide Squad</td>\n",
       "      <td>Action,Adventure,Fantasy</td>\n",
       "      <td>A secret government agency recruits some of th...</td>\n",
       "      <td>David Ayer</td>\n",
       "      <td>Will Smith, Jared Leto, Margot Robbie, Viola D...</td>\n",
       "      <td>2016</td>\n",
       "      <td>123</td>\n",
       "      <td>6.2</td>\n",
       "      <td>393727</td>\n",
       "      <td>325.02</td>\n",
       "      <td>40.0</td>\n",
       "    </tr>\n",
       "  </tbody>\n",
       "</table>\n",
       "</div>"
      ],
      "text/plain": [
       "   Rank                    Title                     Genre  \\\n",
       "0     1  Guardians of the Galaxy   Action,Adventure,Sci-Fi   \n",
       "1     2               Prometheus  Adventure,Mystery,Sci-Fi   \n",
       "2     3                    Split           Horror,Thriller   \n",
       "3     4                     Sing   Animation,Comedy,Family   \n",
       "4     5            Suicide Squad  Action,Adventure,Fantasy   \n",
       "\n",
       "                                         Description              Director  \\\n",
       "0  A group of intergalactic criminals are forced ...            James Gunn   \n",
       "1  Following clues to the origin of mankind, a te...          Ridley Scott   \n",
       "2  Three girls are kidnapped by a man with a diag...    M. Night Shyamalan   \n",
       "3  In a city of humanoid animals, a hustling thea...  Christophe Lourdelet   \n",
       "4  A secret government agency recruits some of th...            David Ayer   \n",
       "\n",
       "                                              Actors  Year  Runtime (Minutes)  \\\n",
       "0  Chris Pratt, Vin Diesel, Bradley Cooper, Zoe S...  2014                121   \n",
       "1  Noomi Rapace, Logan Marshall-Green, Michael Fa...  2012                124   \n",
       "2  James McAvoy, Anya Taylor-Joy, Haley Lu Richar...  2016                117   \n",
       "3  Matthew McConaughey,Reese Witherspoon, Seth Ma...  2016                108   \n",
       "4  Will Smith, Jared Leto, Margot Robbie, Viola D...  2016                123   \n",
       "\n",
       "   Rating   Votes  Revenue (Millions)  Metascore  \n",
       "0     8.1  757074              333.13       76.0  \n",
       "1     7.0  485820              126.46       65.0  \n",
       "2     7.3  157606              138.12       62.0  \n",
       "3     7.2   60545              270.32       59.0  \n",
       "4     6.2  393727              325.02       40.0  "
      ]
     },
     "execution_count": 7,
     "metadata": {},
     "output_type": "execute_result"
    }
   ],
   "source": [
    "movie.head()"
   ]
  },
  {
   "cell_type": "code",
   "execution_count": 8,
   "metadata": {},
   "outputs": [
    {
     "name": "stdout",
     "output_type": "stream",
     "text": [
      "<class 'pandas.core.frame.DataFrame'>\n",
      "RangeIndex: 1000 entries, 0 to 999\n",
      "Data columns (total 12 columns):\n",
      "Rank                  1000 non-null int64\n",
      "Title                 1000 non-null object\n",
      "Genre                 1000 non-null object\n",
      "Description           1000 non-null object\n",
      "Director              1000 non-null object\n",
      "Actors                1000 non-null object\n",
      "Year                  1000 non-null int64\n",
      "Runtime (Minutes)     1000 non-null int64\n",
      "Rating                1000 non-null float64\n",
      "Votes                 1000 non-null int64\n",
      "Revenue (Millions)    872 non-null float64\n",
      "Metascore             936 non-null float64\n",
      "dtypes: float64(3), int64(4), object(5)\n",
      "memory usage: 93.8+ KB\n"
     ]
    }
   ],
   "source": [
    "movie.info()"
   ]
  },
  {
   "cell_type": "code",
   "execution_count": 9,
   "metadata": {},
   "outputs": [
    {
     "data": {
      "text/plain": [
       "Index(['Rank', 'Title', 'Genre', 'Description', 'Director', 'Actors', 'Year',\n",
       "       'Runtime (Minutes)', 'Rating', 'Votes', 'Revenue (Millions)',\n",
       "       'Metascore'],\n",
       "      dtype='object')"
      ]
     },
     "execution_count": 9,
     "metadata": {},
     "output_type": "execute_result"
    }
   ],
   "source": [
    "movie.columns"
   ]
  },
  {
   "cell_type": "code",
   "execution_count": 12,
   "metadata": {},
   "outputs": [],
   "source": [
    "## rename columns\n",
    "movie.rename(columns={'Runtime (Minutes)':'runtime',\n",
    "                       'Revenue (Millions)':'Revenue'}, inplace=True)"
   ]
  },
  {
   "cell_type": "code",
   "execution_count": 13,
   "metadata": {},
   "outputs": [],
   "source": [
    "movie.columns = [col.lower() for col in movie]"
   ]
  },
  {
   "cell_type": "code",
   "execution_count": 14,
   "metadata": {},
   "outputs": [
    {
     "data": {
      "text/plain": [
       "Index(['rank', 'title', 'genre', 'description', 'director', 'actors', 'year',\n",
       "       'runtime', 'rating', 'votes', 'revenue', 'metascore'],\n",
       "      dtype='object')"
      ]
     },
     "execution_count": 14,
     "metadata": {},
     "output_type": "execute_result"
    }
   ],
   "source": [
    "movie.columns"
   ]
  },
  {
   "cell_type": "code",
   "execution_count": 18,
   "metadata": {},
   "outputs": [
    {
     "data": {
      "text/plain": [
       "rank             0\n",
       "title            0\n",
       "genre            0\n",
       "description      0\n",
       "director         0\n",
       "actors           0\n",
       "year             0\n",
       "runtime          0\n",
       "rating           0\n",
       "votes            0\n",
       "revenue        128\n",
       "metascore       64\n",
       "dtype: int64"
      ]
     },
     "execution_count": 18,
     "metadata": {},
     "output_type": "execute_result"
    }
   ],
   "source": [
    "movie.isnull().sum()"
   ]
  },
  {
   "cell_type": "code",
   "execution_count": 25,
   "metadata": {},
   "outputs": [],
   "source": [
    "##impute the missing values in the columns revenue and metascore \n",
    "revenue = movie['revenue']\n",
    "metascore = movie['metascore']\n",
    "revenue_mean= revenue.mean()\n",
    "metascore_mean = metascore.mean()\n",
    "movie.revenue.fillna(revenue_mean, inplace=True)\n",
    "movie.metascore.fillna(metascore_mean, inplace=True)"
   ]
  },
  {
   "cell_type": "code",
   "execution_count": 26,
   "metadata": {},
   "outputs": [
    {
     "data": {
      "text/plain": [
       "rank           0\n",
       "title          0\n",
       "genre          0\n",
       "description    0\n",
       "director       0\n",
       "actors         0\n",
       "year           0\n",
       "runtime        0\n",
       "rating         0\n",
       "votes          0\n",
       "revenue        0\n",
       "metascore      0\n",
       "dtype: int64"
      ]
     },
     "execution_count": 26,
     "metadata": {},
     "output_type": "execute_result"
    }
   ],
   "source": [
    "movie.isnull().sum()" # gives missing values
   ]
  },
  {
   "cell_type": "code",
   "execution_count": 27,
   "metadata": {},
   "outputs": [
    {
     "data": {
      "text/html": [
       "<div>\n",
       "<style scoped>\n",
       "    .dataframe tbody tr th:only-of-type {\n",
       "        vertical-align: middle;\n",
       "    }\n",
       "\n",
       "    .dataframe tbody tr th {\n",
       "        vertical-align: top;\n",
       "    }\n",
       "\n",
       "    .dataframe thead th {\n",
       "        text-align: right;\n",
       "    }\n",
       "</style>\n",
       "<table border=\"1\" class=\"dataframe\">\n",
       "  <thead>\n",
       "    <tr style=\"text-align: right;\">\n",
       "      <th></th>\n",
       "      <th>rank</th>\n",
       "      <th>year</th>\n",
       "      <th>runtime</th>\n",
       "      <th>rating</th>\n",
       "      <th>votes</th>\n",
       "      <th>revenue</th>\n",
       "      <th>metascore</th>\n",
       "    </tr>\n",
       "  </thead>\n",
       "  <tbody>\n",
       "    <tr>\n",
       "      <th>count</th>\n",
       "      <td>1000.000000</td>\n",
       "      <td>1000.000000</td>\n",
       "      <td>1000.000000</td>\n",
       "      <td>1000.000000</td>\n",
       "      <td>1.000000e+03</td>\n",
       "      <td>1000.000000</td>\n",
       "      <td>1000.000000</td>\n",
       "    </tr>\n",
       "    <tr>\n",
       "      <th>mean</th>\n",
       "      <td>500.500000</td>\n",
       "      <td>2012.783000</td>\n",
       "      <td>113.172000</td>\n",
       "      <td>6.723200</td>\n",
       "      <td>1.698083e+05</td>\n",
       "      <td>82.956376</td>\n",
       "      <td>58.985043</td>\n",
       "    </tr>\n",
       "    <tr>\n",
       "      <th>std</th>\n",
       "      <td>288.819436</td>\n",
       "      <td>3.205962</td>\n",
       "      <td>18.810908</td>\n",
       "      <td>0.945429</td>\n",
       "      <td>1.887626e+05</td>\n",
       "      <td>96.412043</td>\n",
       "      <td>16.634858</td>\n",
       "    </tr>\n",
       "    <tr>\n",
       "      <th>min</th>\n",
       "      <td>1.000000</td>\n",
       "      <td>2006.000000</td>\n",
       "      <td>66.000000</td>\n",
       "      <td>1.900000</td>\n",
       "      <td>6.100000e+01</td>\n",
       "      <td>0.000000</td>\n",
       "      <td>11.000000</td>\n",
       "    </tr>\n",
       "    <tr>\n",
       "      <th>25%</th>\n",
       "      <td>250.750000</td>\n",
       "      <td>2010.000000</td>\n",
       "      <td>100.000000</td>\n",
       "      <td>6.200000</td>\n",
       "      <td>3.630900e+04</td>\n",
       "      <td>17.442500</td>\n",
       "      <td>47.750000</td>\n",
       "    </tr>\n",
       "    <tr>\n",
       "      <th>50%</th>\n",
       "      <td>500.500000</td>\n",
       "      <td>2014.000000</td>\n",
       "      <td>111.000000</td>\n",
       "      <td>6.800000</td>\n",
       "      <td>1.107990e+05</td>\n",
       "      <td>60.375000</td>\n",
       "      <td>58.985043</td>\n",
       "    </tr>\n",
       "    <tr>\n",
       "      <th>75%</th>\n",
       "      <td>750.250000</td>\n",
       "      <td>2016.000000</td>\n",
       "      <td>123.000000</td>\n",
       "      <td>7.400000</td>\n",
       "      <td>2.399098e+05</td>\n",
       "      <td>99.177500</td>\n",
       "      <td>71.000000</td>\n",
       "    </tr>\n",
       "    <tr>\n",
       "      <th>max</th>\n",
       "      <td>1000.000000</td>\n",
       "      <td>2016.000000</td>\n",
       "      <td>191.000000</td>\n",
       "      <td>9.000000</td>\n",
       "      <td>1.791916e+06</td>\n",
       "      <td>936.630000</td>\n",
       "      <td>100.000000</td>\n",
       "    </tr>\n",
       "  </tbody>\n",
       "</table>\n",
       "</div>"
      ],
      "text/plain": [
       "              rank         year      runtime       rating         votes  \\\n",
       "count  1000.000000  1000.000000  1000.000000  1000.000000  1.000000e+03   \n",
       "mean    500.500000  2012.783000   113.172000     6.723200  1.698083e+05   \n",
       "std     288.819436     3.205962    18.810908     0.945429  1.887626e+05   \n",
       "min       1.000000  2006.000000    66.000000     1.900000  6.100000e+01   \n",
       "25%     250.750000  2010.000000   100.000000     6.200000  3.630900e+04   \n",
       "50%     500.500000  2014.000000   111.000000     6.800000  1.107990e+05   \n",
       "75%     750.250000  2016.000000   123.000000     7.400000  2.399098e+05   \n",
       "max    1000.000000  2016.000000   191.000000     9.000000  1.791916e+06   \n",
       "\n",
       "           revenue    metascore  \n",
       "count  1000.000000  1000.000000  \n",
       "mean     82.956376    58.985043  \n",
       "std      96.412043    16.634858  \n",
       "min       0.000000    11.000000  \n",
       "25%      17.442500    47.750000  \n",
       "50%      60.375000    58.985043  \n",
       "75%      99.177500    71.000000  \n",
       "max     936.630000   100.000000  "
      ]
     },
     "execution_count": 27,
     "metadata": {},
     "output_type": "execute_result"
    }
   ],
   "source": [
    "movie.describe()"
   ]
  },
  {
   "cell_type": "code",
   "execution_count": 28,
   "metadata": {},
   "outputs": [
    {
     "data": {
      "text/plain": [
       "Action,Adventure,Sci-Fi       50\n",
       "Drama                         48\n",
       "Comedy,Drama,Romance          35\n",
       "Comedy                        32\n",
       "Drama,Romance                 31\n",
       "Action,Adventure,Fantasy      27\n",
       "Animation,Adventure,Comedy    27\n",
       "Comedy,Drama                  27\n",
       "Comedy,Romance                26\n",
       "Crime,Drama,Thriller          24\n",
       "Crime,Drama,Mystery           23\n",
       "Action,Adventure,Drama        18\n",
       "Action,Crime,Drama            17\n",
       "Horror,Thriller               16\n",
       "Drama,Thriller                15\n",
       "Biography,Drama               14\n",
       "Action,Adventure,Comedy       14\n",
       "Biography,Drama,History       14\n",
       "Adventure,Family,Fantasy      14\n",
       "Action,Comedy,Crime           12\n",
       "Action,Crime,Thriller         12\n",
       "Action,Adventure,Thriller     11\n",
       "Horror                        11\n",
       "Crime,Drama                   10\n",
       "Action,Thriller                9\n",
       "Thriller                       9\n",
       "Horror,Mystery,Thriller        9\n",
       "Animation,Action,Adventure     9\n",
       "Biography,Crime,Drama          9\n",
       "Adventure,Comedy,Drama         8\n",
       "                              ..\n",
       "Adventure,Comedy,Fantasy       1\n",
       "Comedy,Drama,Thriller          1\n",
       "Drama,Fantasy,Mystery          1\n",
       "Animation,Drama,Romance        1\n",
       "Drama,Family,Fantasy           1\n",
       "Crime,Drama,Fantasy            1\n",
       "Action,Drama,War               1\n",
       "Comedy,Fantasy,Romance         1\n",
       "Action,Fantasy                 1\n",
       "Mystery,Romance,Thriller       1\n",
       "Action,Thriller,War            1\n",
       "Fantasy,Mystery,Thriller       1\n",
       "Drama,History,War              1\n",
       "Action,Crime,Fantasy           1\n",
       "Adventure,Crime,Mystery        1\n",
       "Comedy,Romance,Western         1\n",
       "Action,Comedy,Mystery          1\n",
       "Drama,Thriller,War             1\n",
       "Comedy,Family,Fantasy          1\n",
       "Animation,Action,Comedy        1\n",
       "Adventure,Comedy,Horror        1\n",
       "Comedy,Music,Romance           1\n",
       "Action,Fantasy,War             1\n",
       "Adventure,Fantasy,Mystery      1\n",
       "Horror,Mystery,Sci-Fi          1\n",
       "Action,Drama,Horror            1\n",
       "Adventure,Biography            1\n",
       "Action,Horror,Mystery          1\n",
       "Fantasy,Horror,Thriller        1\n",
       "Action,Biography,Crime         1\n",
       "Name: genre, Length: 207, dtype: int64"
      ]
     },
     "execution_count": 28,
     "metadata": {},
     "output_type": "execute_result"
    }
   ],
   "source": [
    "## for categorical variables get counts using value_counts() \n",
    "movie.genre.value_counts()"
   ]
  },
  {
   "cell_type": "code",
   "execution_count": 33,
   "metadata": {},
   "outputs": [
    {
     "name": "stdout",
     "output_type": "stream",
     "text": [
      "<class 'pandas.core.series.Series'>\n",
      "<class 'pandas.core.frame.DataFrame'>\n"
     ]
    }
   ],
   "source": [
    "## slicing a dataframe by coulmns \n",
    "genre = movie['genre'] ##this will return a pandas series as we have selected only one column \n",
    "print(type(genre))\n",
    "## to return a dataframe though we have only one column we can select slicing method \n",
    "genre_pd = movie[['genre']] ##this will return a dataframe though we have only one column \n",
    "print(type(genre_pd))"
   ]
  },
  {
   "cell_type": "code",
   "execution_count": 35,
   "metadata": {},
   "outputs": [
    {
     "data": {
      "text/html": [
       "<div>\n",
       "<style scoped>\n",
       "    .dataframe tbody tr th:only-of-type {\n",
       "        vertical-align: middle;\n",
       "    }\n",
       "\n",
       "    .dataframe tbody tr th {\n",
       "        vertical-align: top;\n",
       "    }\n",
       "\n",
       "    .dataframe thead th {\n",
       "        text-align: right;\n",
       "    }\n",
       "</style>\n",
       "<table border=\"1\" class=\"dataframe\">\n",
       "  <thead>\n",
       "    <tr style=\"text-align: right;\">\n",
       "      <th></th>\n",
       "      <th>genre</th>\n",
       "      <th>rating</th>\n",
       "      <th>revenue</th>\n",
       "    </tr>\n",
       "  </thead>\n",
       "  <tbody>\n",
       "    <tr>\n",
       "      <th>0</th>\n",
       "      <td>Action,Adventure,Sci-Fi</td>\n",
       "      <td>8.1</td>\n",
       "      <td>333.13</td>\n",
       "    </tr>\n",
       "    <tr>\n",
       "      <th>1</th>\n",
       "      <td>Adventure,Mystery,Sci-Fi</td>\n",
       "      <td>7.0</td>\n",
       "      <td>126.46</td>\n",
       "    </tr>\n",
       "    <tr>\n",
       "      <th>2</th>\n",
       "      <td>Horror,Thriller</td>\n",
       "      <td>7.3</td>\n",
       "      <td>138.12</td>\n",
       "    </tr>\n",
       "    <tr>\n",
       "      <th>3</th>\n",
       "      <td>Animation,Comedy,Family</td>\n",
       "      <td>7.2</td>\n",
       "      <td>270.32</td>\n",
       "    </tr>\n",
       "    <tr>\n",
       "      <th>4</th>\n",
       "      <td>Action,Adventure,Fantasy</td>\n",
       "      <td>6.2</td>\n",
       "      <td>325.02</td>\n",
       "    </tr>\n",
       "  </tbody>\n",
       "</table>\n",
       "</div>"
      ],
      "text/plain": [
       "                      genre  rating  revenue\n",
       "0   Action,Adventure,Sci-Fi     8.1   333.13\n",
       "1  Adventure,Mystery,Sci-Fi     7.0   126.46\n",
       "2           Horror,Thriller     7.3   138.12\n",
       "3   Animation,Comedy,Family     7.2   270.32\n",
       "4  Action,Adventure,Fantasy     6.2   325.02"
      ]
     },
     "execution_count": 35,
     "metadata": {},
     "output_type": "execute_result"
    }
   ],
   "source": [
    "## slicing many columns at once \n",
    "movie_df = movie[['genre','rating','revenue']]\n",
    "movie_df.head()"
   ]
  },
  {
   "cell_type": "code",
   "execution_count": 48,
   "metadata": {},
   "outputs": [
    {
     "data": {
      "text/plain": [
       "rank                                                           2\n",
       "genre                                   Adventure,Mystery,Sci-Fi\n",
       "description    Following clues to the origin of mankind, a te...\n",
       "director                                            Ridley Scott\n",
       "actors         Noomi Rapace, Logan Marshall-Green, Michael Fa...\n",
       "year                                                        2012\n",
       "runtime                                                      124\n",
       "rating                                                         7\n",
       "votes                                                     485820\n",
       "revenue                                                   126.46\n",
       "metascore                                                     65\n",
       "Name: Prometheus, dtype: object"
      ]
     },
     "execution_count": 48,
     "metadata": {},
     "output_type": "execute_result"
    }
   ],
   "source": [
    "## slicing rows by loc and iloc \n",
    "## loc locates rows by index , if there are index names \n",
    "## iloc locates rows by numeric index, index starts from 0 \n",
    "\n",
    "## set index using title \n",
    "#movie = movie.set_index('title')\n",
    "pro= movie.loc[\"Prometheus\"]\n",
    "pro ## prints the pro record as output\n",
    "pro1 = movie.iloc[1]\n",
    "pro1"
   ]
  },
  {
   "cell_type": "code",
   "execution_count": 51,
   "metadata": {},
   "outputs": [
    {
     "data": {
      "text/plain": [
       "(10, 11)"
      ]
     },
     "execution_count": 51,
     "metadata": {},
     "output_type": "execute_result"
    }
   ],
   "source": [
    "movie2 = movie.iloc[0:10] ## will select the first 10 rows of the movie dataframe\n",
    "movie2.shape"
   ]
  },
  {
   "cell_type": "code",
   "execution_count": 53,
   "metadata": {},
   "outputs": [
    {
     "data": {
      "text/plain": [
       "(8, 11)"
      ]
     },
     "execution_count": 53,
     "metadata": {},
     "output_type": "execute_result"
    }
   ],
   "source": [
    "## slicing on a condition \n",
    "movie_d = movie[movie['director']==\"Ridley Scott\"]\n",
    "movie_d.shape"
   ]
  },
  {
   "cell_type": "code",
   "execution_count": 55,
   "metadata": {},
   "outputs": [
    {
     "data": {
      "text/plain": [
       "(250, 11)"
      ]
     },
     "execution_count": 55,
     "metadata": {},
     "output_type": "execute_result"
    }
   ],
   "source": [
    "movie_mill = movie[movie[\"revenue\"] >=100] ## movies that collectes more than 100 million\n",
    "movie_mill.shape"
   ]
  },
  {
   "cell_type": "code",
   "execution_count": 64,
   "metadata": {},
   "outputs": [
    {
     "data": {
      "text/plain": [
       "(14, 11)"
      ]
     },
     "execution_count": 64,
     "metadata": {},
     "output_type": "execute_result"
    }
   ],
   "source": [
    "## using isin operator \n",
    "\n",
    "movie_d = movie[movie['director'].isin(['David Yates','Ridley Scott'])]\n",
    "movie_d.shape"
   ]
  },
  {
   "cell_type": "code",
   "execution_count": 65,
   "metadata": {},
   "outputs": [
    {
     "data": {
      "text/plain": [
       "Ridley Scott          8\n",
       "David Yates           6\n",
       "Michael Bay           6\n",
       "M. Night Shyamalan    6\n",
       "Paul W.S. Anderson    6\n",
       "Name: director, dtype: int64"
      ]
     },
     "execution_count": 65,
     "metadata": {},
     "output_type": "execute_result"
    }
   ],
   "source": [
    "movie.director.value_counts().head(5)"
   ]
  },
  {
   "cell_type": "code",
   "execution_count": 68,
   "metadata": {},
   "outputs": [],
   "source": [
    "## create new variables like 500+ million club \n",
    "movie[\"five_hun_mill\"] = movie.revenue.apply(lambda x: \"Yes\" if x>=500 else \"No\")"
   ]
  },
  {
   "cell_type": "code",
   "execution_count": 69,
   "metadata": {},
   "outputs": [
    {
     "data": {
      "text/plain": [
       "No     994\n",
       "Yes      6\n",
       "Name: five_hun_mill, dtype: int64"
      ]
     },
     "execution_count": 69,
     "metadata": {},
     "output_type": "execute_result"
    }
   ],
   "source": [
    "movie.five_hun_mill.value_counts()"
   ]
  },
  {
   "cell_type": "code",
   "execution_count": 79,
   "metadata": {},
   "outputs": [
    {
     "data": {
      "image/png": "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\n",
      "text/plain": [
       "<Figure size 432x288 with 1 Axes>"
      ]
     },
     "metadata": {
      "needs_background": "light"
     },
     "output_type": "display_data"
    }
   ],
   "source": [
    "movie.plot(kind=\"scatter\", x=\"rating\", y=\"revenue\", title = \"rating vs revenue\");"
   ]
  },
  {
   "cell_type": "code",
   "execution_count": 81,
   "metadata": {},
   "outputs": [
    {
     "data": {
      "text/plain": [
       "<matplotlib.axes._subplots.AxesSubplot at 0x2219ba5ae48>"
      ]
     },
     "execution_count": 81,
     "metadata": {},
     "output_type": "execute_result"
    },
    {
     "data": {
      "image/png": "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\n",
      "text/plain": [
       "<Figure size 432x288 with 1 Axes>"
      ]
     },
     "metadata": {
      "needs_background": "light"
     },
     "output_type": "display_data"
    }
   ],
   "source": [
    "movie[\"revenue\"].plot(kind='hist',title= \"histogram of revenue\")"
   ]
  },
  {
   "cell_type": "code",
   "execution_count": 82,
   "metadata": {},
   "outputs": [
    {
     "data": {
      "text/plain": [
       "<matplotlib.axes._subplots.AxesSubplot at 0x2219bad6898>"
      ]
     },
     "execution_count": 82,
     "metadata": {},
     "output_type": "execute_result"
    },
    {
     "data": {
      "image/png": "iVBORw0KGgoAAAANSUhEUgAAAXcAAAD4CAYAAAAXUaZHAAAABHNCSVQICAgIfAhkiAAAAAlwSFlzAAALEgAACxIB0t1+/AAAADh0RVh0U29mdHdhcmUAbWF0cGxvdGxpYiB2ZXJzaW9uMy4xLjAsIGh0dHA6Ly9tYXRwbG90bGliLm9yZy+17YcXAAATIklEQVR4nO3df4wcZ33H8ffXm7PPXFwHiEHEDjgoKWy0VUt6gdSxUq6mqAbaWBWonFJwySqRqtzVbYocw1ai/GEpWFXBrFoLi3OVSGiBBhRSjCkRbP7YGlIcCGBybW2lhlwSwCg/Cg5nn89P/7ixudvcj734zns7fr+k08w888zud63zx+NnntmJlBKSpHxZ1u4CJEkLz3CXpBwy3CUphwx3Scohw12ScuiSdhcAcPnll6f169e3uwxJ6iiPPPLIz1NKa6bbtyTCff369Rw6dKjdZUhSR4mIH820z2EZScohw12Scshwl6QcMtwlKYcMd0nKIcNdmkatVqNUKlEoFCiVStRqtXaXJM3LkpgKKS0ltVqNSqXC0NAQGzdupNFoUC6XAejv729zdVJrYil85W9vb29ynruWilKpRLVapa+v71xbvV5ncHCQw4cPt7EyaaqIeCSl1DvtPsNdmqpQKDA6OkpXV9e5trGxMbq7uxkfH29jZdJUs4W7Y+5Sk2KxSKPRmNLWaDQoFottqkiaP8NdalKpVCiXy9TrdcbGxqjX65TLZSqVSrtLk1rmBVWpydmLpoODgwwPD1MsFtm5c6cXU9VRHHOXpA7lmLskXWQMd0nKIcNdknLIcJekHDLcJSmHDHdJyiHDXZJyyHCXpBwy3CUphwx3Scohw12Scshwl6QcMtwlKYcMd0nKIcNdknLIcJekHDLcJSmHDHdJyiHDXZJyyHCXpBwy3CUph1oK94j4m4j4YUQcjohaRHRHxFUR8XBEHImIz0XE8qzvimz7aLZ//WJ+AEnSi80Z7hGxFvgroDelVAIKwHuBjwEfTyldAzwLlLNDysCzKaWrgY9n/SRJF1CrwzKXACsj4hLgZcDTwB8A92X77wG2ZOs3Z9tk+zdFRCxMuZKkVswZ7imlJ4F/AH7MRKg/DzwCPJdSOp11GwHWZutrgSeyY09n/V/Z/LoRcXtEHIqIQ8ePHz/fzyFJmqSVYZmXM3E2fhVwBdADbJ6mazp7yCz7ft2Q0t6UUm9KqXfNmjWtVyxJmlMrwzJvA/43pXQ8pTQGfBHYAFyWDdMArAOeytZHgCsBsv2rgWcWtGpJ0qxaCfcfAzdExMuysfNNwGNAHXh31mcr8KVs/YFsm2z/N1JKLzpzlyQtnlbG3B9m4sLod4AfZMfsBe4C7oyIo0yMqQ9lhwwBr8za7wR2LELdkqRZtDRbJqX0kZTSG1NKpZTS+1JKJ1NKj6eU3pxSujql9J6U0sms72i2fXW2//HF/QjSwqvVapRKJQqFAqVSiVqt1u6SpHm5ZO4u0sWlVqtRqVQYGhpi48aNNBoNyuWJ2zj6+/vbXJ3UmlgKw+G9vb3p0KFD7S5DAqBUKlGtVunr6zvXVq/XGRwc5PDhw22sTJoqIh5JKfVOu89wl6YqFAqMjo7S1dV1rm1sbIzu7m7Gx8fbWJk01Wzh7heHSU2KxSKNRmNKW6PRoFgstqkiaf4Md6lJpVKhXC5Tr9cZGxujXq9TLpepVCrtLk1qmRdUpSZnL5oODg4yPDxMsVhk586dXkxVR3HMXZI6lGPuknSRMdwlKYcMd0nKIcNdknLIcJekHDLcJSmHDHdJyiHDXZJyyHCXpBwy3CUphwx3Scohw12Scshwl6QcMtwlKYcMd0nKIcNdmkatVqNUKlEoFCiVStRqtXaXJM2LT2KSmtRqNSqVCkNDQ2zcuJFGo0G5XAbwaUzqGD6JSWpSKpWoVqv09fWda6vX6wwODnL48OE2ViZNNduTmAx3qUmhUGB0dJSurq5zbWNjY3R3dzM+Pt7GyqSpfMyeNA/FYpFGozGlrdFoUCwW21SRNH+Gu9SkUqlQLpep1+uMjY1Rr9cpl8tUKpV2lya1zAuqUpP+/n4OHjzI5s2bOXnyJCtWrOC2227zYqo6imfuUpNarcb+/fs5cOAAp06d4sCBA+zfv9/pkOooXlCVmjhbRp3C2TLSPDhbRp3C2TLSPDhbRnnQUrhHxGURcV9E/FdEDEfE70XEKyLiwYg4ki1fnvWNiPhkRByNiO9HxHWL+xGkheVsGeVBq7NldgNfTSm9OyKWAy8DPgx8PaV0d0TsAHYAdwGbgWuyn7cAe7Kl1BHOzooZHBxkeHiYYrHIzp07nS2jjjLnmHtE/AbwPeD1aVLniPhv4K0ppacj4jXAQymlN0TEp7L1WnO/md7DMXdJmr/zHXN/PXAc+JeI+G5EfDoieoBXnw3sbPmqrP9a4IlJx49kbc1F3R4RhyLi0PHjx+fxcSRJc2kl3C8BrgP2pJTeBJxgYghmJjFN24v+e5BS2ptS6k0p9a5Zs6alYiVJrWkl3EeAkZTSw9n2fUyE/U+z4Riy5c8m9b9y0vHrgKcWplxJUivmDPeU0k+AJyLiDVnTJuAx4AFga9a2FfhStv4A8P5s1swNwPOzjbdLkhZeq7NlBoHPZDNlHgc+wMQ/DJ+PiDLwY+A9Wd+vAO8AjgIvZH0lSRdQS+GeUnoUmO6K7KZp+ibgjvOsS5J0HrxDVZJyyHCXpBwy3CUphwx3Scohw12Scshwl6ZRq9UolUoUCgVKpZJPYVLHMdylJrVajW3btnHixAlSSpw4cYJt27YZ8OoohrvUZPv27RQKBfbt28fJkyfZt28fhUKB7du3t7s0qWWGu9RkZGSEe++9l76+Prq6uujr6+Pee+9lZGSk3aVJLTPcJSmHDHepybp169i6deuUx+xt3bqVdevWtbs0qWWGu9Rk165dnD59mltvvZXu7m5uvfVWTp8+za5du9pdmtQyw11q0t/fz+7du+np6QGgp6eH3bt3+wxVdZQ5n6F6IfgMVUmav/N9hqokqcMY7tI0vENVna7VJzFJF41arUalUmFoaIiNGzfSaDQol8sAjrurYzjmLjUplUpUq1X6+vrOtdXrdQYHBzl8+HAbK5Ommm3M3XCXmhQKBUZHR+nq6jrXNjY2Rnd3N+Pj422sTJrKC6rSPBSLRRqNxpS2RqNBsVhsU0XS/BnuUpNKpUK5XJ5yh2q5XKZSqbS7NKllXlCVmvT393Pw4EE2b97MyZMnWbFiBbfddpsXU9VRPHOXmtRqNfbv38+BAwc4deoUBw4cYP/+/U6HVEfxgqrUpFQqsWXLFu6//36Gh4cpFovntp0to6VktguqDstITR577DFeeOGFF81zP3bsWLtLk1rmsIzUZPny5QwMDEx5WMfAwADLly9vd2lSywx3qcmpU6eoVqtTZstUq1VOnTrV7tKkljksIzW59tpr2bJlC4ODg+fG3G+55Rbuv//+dpcmtcxwl5pUKhW2bdt27vvcT5w4wd69e9m9e3ebK5NaZ7hL0zh58iTPPfccZ86c4cknn2TlypXtLkmaF8fcpSbbt28nIli7di3Lli1j7dq1RATbt29vd2lSywx3qcnIyAgrV65k3759jI6Osm/fPlauXMnIyEi7S5Na5rCMNI1Vq1axadMmUkpEBFdffTU/+clP2l2W1LKWz9wjohAR342IL2fbV0XEwxFxJCI+FxHLs/YV2fbRbP/6xSldWjxHjhwhIgCICI4cOdLmiqT5mc+wzDZgeNL2x4CPp5SuAZ4Fyll7GXg2pXQ18PGsn9RxVq9eTUSwevXqdpcizVtL4R4R64B3Ap/OtgP4A+C+rMs9wJZs/eZsm2z/pjh7CiR1iJ6ennOhvnr16nPTIqVO0eqZ+yeA7cCZbPuVwHMppdPZ9giwNltfCzwBkO1/Pus/RUTcHhGHIuLQ8ePHX2L50uK4/vrr6enpISLo6enh+uuvb3dJ0rzMGe4R8S7gZymlRyY3T9M1tbDv1w0p7U0p9aaUetesWdNSsdKFEBE89NBD3HTTTTzzzDPcdNNNPPTQQ/gfUHWSVs7cbwT+JCKOAZ9lYjjmE8BlEXF2ts064KlsfQS4EiDbvxp4ZgFrlhbVHXfcAcCePXu47LLL2LNnz5R2qRPMGe4ppQ+llNallNYD7wW+kVK6BagD7866bQW+lK0/kG2T7f9GWgpfGi+1aMOGDaxatercA7K7urpYtWoVGzZsaHNlUuvO5yamu4A7I+IoE2PqQ1n7EPDKrP1OYMf5lShdWDt37mTTpk0sWzbx12PZsmVs2rSJnTt3trkyqXU+iUlqEhFEBMuWLWN8fJxCocCZM2dIKbEU/r5IZ832JCa/fkCawa5duzhx4gS7du1qdynSvBnu0jRWrlxJtVpl1apVVKtVvxVSHcfvlpGmMTo6eu6ZqceOHTs3/i51Cn9jpWmcOXOGDRs28NRTT7FhwwbOnDkz90HSEuKZuzSDgwcPcsUVV7S7DOkl8cxdknLIcJekHDLcJSmHDHdJyiHDXZJyyHCXpBwy3CUphwx3Scohw12awaWXXjplKXUSw12awS9/+cspS6mTGO6SlEOGuzSDyY/ZkzqN4S7NYGxsbMpS6iSGuyTlkOEuSTlkuEtSDhnu0jQiYtZtaakz3KVppJRm3ZaWOsNdknLIcJekHDLcJSmHDHdJyiHDXZJyyHCXpBwy3CUphwx3aQZnb1zyBiZ1IsNdknLIcJdmcPauVO9OVSe6pN0FSBfS+Q6xtHq8/yCo3eY8c4+IKyOiHhHDEfHDiNiWtb8iIh6MiCPZ8uVZe0TEJyPiaER8PyKuW+wPIbUqpTTnz8DAwLTHDgwMtHS8wa6loJVhmdPA36aUisANwB0RcS2wA/h6Suka4OvZNsBm4Jrs53Zgz4JXLS2iarXKwMAAK1asAGDFihUMDAxQrVbbXJnUujnDPaX0dErpO9n6L4BhYC1wM3BP1u0eYEu2fjNwb5rwLeCyiHjNglcuLaJqtcro6Civu+vLjI6OGuzqOPO6oBoR64E3AQ8Dr04pPQ0T/wAAr8q6rQWemHTYSNbW/Fq3R8ShiDh0/Pjx+VcuSZpRy+EeEZcCXwD+OqX0f7N1nabtRYOQKaW9KaXelFLvmjVrWi1DktSClsI9IrqYCPbPpJS+mDX/9OxwS7b8WdY+Alw56fB1wFMLU64kqRWtzJYJYAgYTin946RdDwBbs/WtwJcmtb8/mzVzA/D82eEbSdKF0co89xuB9wE/iIhHs7YPA3cDn4+IMvBj4D3Zvq8A7wCOAi8AH1jQiiVJc5oz3FNKDaYfRwfYNE3/BNxxnnVJks6DXz8gSTlkuEtSDhnukpRDhrsk5ZDhLkk5ZLhLUg4Z7pKUQ4a7JOWQ4S5JOWS4S1IOGe6SlEOGuyTlkOEuSTlkuEtSDhnukpRDrTysQ1qSfvujX+P5X40t+vus37F/0d9j9couvveRty/6++jiYbirYz3/qzGO3f3OdpexIC7EPyC6uDgsI0k5ZLhLUg4Z7pKUQ4a7JOWQ4S5JOWS4S1IOORVSHWtVcQe/dc+OdpexIFYVAfIxrVNLg+GujvWL4bud5y7NwGEZScohw12Scshwl6QcMtwlKYcMd0nKIcNdknLIcJekHHKeuzpaXuaHr17Z1e4SlDOLEu4R8UfAbqAAfDqldPdivI8ubhfiBqb1O/bn5kYpXVwWfFgmIgrAPwGbgWuB/oi4dqHfR5I0s8UYc38zcDSl9HhK6RTwWeDmRXgfSdIMFmNYZi3wxKTtEeAtzZ0i4nbgdoDXvva1i1CG9GIRMf9jPjb/90kpzf8gaQEtxpn7dH97XvSbnlLam1LqTSn1rlmzZhHKkF4spXRBfqR2W4xwHwGunLS9DnhqEd5HkjSDxQj3bwPXRMRVEbEceC/wwCK8jyRpBgs+5p5SOh0RA8C/MzEVcl9K6YcL/T6SpJktyjz3lNJXgK8sxmtLkubm1w9IUg4Z7pKUQ4a7JOWQ4S5JORRL4YaLiDgO/KjddUjTuBz4ebuLkGbwupTStHeBLolwl5aqiDiUUuptdx3SfDksI0k5ZLhLUg4Z7tLs9ra7AOmlcMxdknLIM3dJyiHDXZJyyHCXpBwy3JVrMcHfc110/KVX7kTE+ogYjoh/Br4DvC8ivhkR34mIf42ISyNic0R8ftIxb42If8vW397cP2s/FhEfzdp/EBFvzNr/PiI+OOm1DkfE+mz9zyPiPyPi0Yj4VEQULtyfhC5mhrvy6g3AvcAfAmXgbSml64BDwJ3Ag8ANEdGT9f8z4HMRcTnwd9P0P+vnWfse4IPMIiKK2evemFL6HWAcuGWBPp80q0V5WIe0BPwopfStiHgXcC3wHxEBsBz4ZvbEsK8CfxwR9wHvBLYDvz9d/0mv+8Vs+Qjwp3PUsAn4XeDb2WutBH62AJ9NmpPhrrw6kS0DeDCl1D9Nn88BdwDPAN9OKf0iJlJ4pv4AJ7PlOL/++3Oaqf8L7p703veklD70Ej+D9JI5LKO8+xZwY0RcDRARL4uI38z2PQRcB9zGRNDP1X8mx7LXISKuA67K2r8OvDsiXpXte0VEvG4hPpQ0F8NduZZSOg78BVCLiO8zEd5vzPaNA18GNmfLWfvP4gvAKyLiUeAvgf/JXusxJsbvv5a91oPAaxbw40kz8usHJCmHPHOXpBwy3CUphwx3Scohw12Scshwl6QcMtwlKYcMd0nKof8HWftgDJ2CrhkAAAAASUVORK5CYII=\n",
      "text/plain": [
       "<Figure size 432x288 with 1 Axes>"
      ]
     },
     "metadata": {
      "needs_background": "light"
     },
     "output_type": "display_data"
    }
   ],
   "source": [
    "movie[\"revenue\"].plot(kind=\"box\")"
   ]
  }
 ],
 "metadata": {
  "kernelspec": {
   "display_name": "Python 3",
   "language": "python",
   "name": "python3"
  },
  "language_info": {
   "codemirror_mode": {
    "name": "ipython",
    "version": 3
   },
   "file_extension": ".py",
   "mimetype": "text/x-python",
   "name": "python",
   "nbconvert_exporter": "python",
   "pygments_lexer": "ipython3",
   "version": "3.7.3"
  }
 },
 "nbformat": 4,
 "nbformat_minor": 2
}
