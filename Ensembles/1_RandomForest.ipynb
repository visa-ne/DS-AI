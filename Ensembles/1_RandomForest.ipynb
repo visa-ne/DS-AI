{
 "cells": [
  {
   "cell_type": "code",
   "execution_count": 96,
   "metadata": {},
   "outputs": [],
   "source": [
    "import pandas as pd\n",
    "import numpy as np \n",
    "import seaborn as sns \n",
    "from sklearn.preprocessing import LabelEncoder\n",
    "from sklearn.metrics import roc_curve, roc_auc_score, precision_score, recall_score, confusion_matrix, accuracy_score\n",
    "from sklearn.model_selection import train_test_split\n",
    "from sklearn.model_selection import GridSearchCV\n",
    "from sklearn.model_selection import KFold\n",
    "from sklearn.model_selection import cross_val_score\n",
    "from sklearn.ensemble import RandomForestClassifier"
   ]
  },
  {
   "cell_type": "code",
   "execution_count": 99,
   "metadata": {},
   "outputs": [],
   "source": [
    "data = pd.read_csv(\"D:/AP/Data/CrossSell/Ins_train.csv\")"
   ]
  },
  {
   "cell_type": "code",
   "execution_count": 100,
   "metadata": {},
   "outputs": [
    {
     "name": "stdout",
     "output_type": "stream",
     "text": [
      "<class 'pandas.core.frame.DataFrame'>\n",
      "RangeIndex: 381109 entries, 0 to 381108\n",
      "Data columns (total 12 columns):\n",
      " #   Column                Non-Null Count   Dtype  \n",
      "---  ------                --------------   -----  \n",
      " 0   id                    381109 non-null  int64  \n",
      " 1   Gender                381109 non-null  object \n",
      " 2   Age                   381109 non-null  int64  \n",
      " 3   Driving_License       381109 non-null  int64  \n",
      " 4   Region_Code           381109 non-null  float64\n",
      " 5   Previously_Insured    381109 non-null  int64  \n",
      " 6   Vehicle_Age           381109 non-null  object \n",
      " 7   Vehicle_Damage        381109 non-null  object \n",
      " 8   Annual_Premium        381109 non-null  float64\n",
      " 9   Policy_Sales_Channel  381109 non-null  float64\n",
      " 10  Vintage               381109 non-null  int64  \n",
      " 11  Response              381109 non-null  int64  \n",
      "dtypes: float64(3), int64(6), object(3)\n",
      "memory usage: 34.9+ MB\n"
     ]
    }
   ],
   "source": [
    "data.info()"
   ]
  },
  {
   "cell_type": "code",
   "execution_count": 101,
   "metadata": {},
   "outputs": [
    {
     "data": {
      "text/html": [
       "<div>\n",
       "<style scoped>\n",
       "    .dataframe tbody tr th:only-of-type {\n",
       "        vertical-align: middle;\n",
       "    }\n",
       "\n",
       "    .dataframe tbody tr th {\n",
       "        vertical-align: top;\n",
       "    }\n",
       "\n",
       "    .dataframe thead th {\n",
       "        text-align: right;\n",
       "    }\n",
       "</style>\n",
       "<table border=\"1\" class=\"dataframe\">\n",
       "  <thead>\n",
       "    <tr style=\"text-align: right;\">\n",
       "      <th></th>\n",
       "      <th>id</th>\n",
       "      <th>Gender</th>\n",
       "      <th>Age</th>\n",
       "      <th>Driving_License</th>\n",
       "      <th>Region_Code</th>\n",
       "      <th>Previously_Insured</th>\n",
       "      <th>Vehicle_Age</th>\n",
       "      <th>Vehicle_Damage</th>\n",
       "      <th>Annual_Premium</th>\n",
       "      <th>Policy_Sales_Channel</th>\n",
       "      <th>Vintage</th>\n",
       "      <th>Response</th>\n",
       "    </tr>\n",
       "  </thead>\n",
       "  <tbody>\n",
       "    <tr>\n",
       "      <th>0</th>\n",
       "      <td>1</td>\n",
       "      <td>Male</td>\n",
       "      <td>44</td>\n",
       "      <td>1</td>\n",
       "      <td>28.0</td>\n",
       "      <td>0</td>\n",
       "      <td>&gt; 2 Years</td>\n",
       "      <td>Yes</td>\n",
       "      <td>40454.0</td>\n",
       "      <td>26.0</td>\n",
       "      <td>217</td>\n",
       "      <td>1</td>\n",
       "    </tr>\n",
       "    <tr>\n",
       "      <th>1</th>\n",
       "      <td>2</td>\n",
       "      <td>Male</td>\n",
       "      <td>76</td>\n",
       "      <td>1</td>\n",
       "      <td>3.0</td>\n",
       "      <td>0</td>\n",
       "      <td>1-2 Year</td>\n",
       "      <td>No</td>\n",
       "      <td>33536.0</td>\n",
       "      <td>26.0</td>\n",
       "      <td>183</td>\n",
       "      <td>0</td>\n",
       "    </tr>\n",
       "    <tr>\n",
       "      <th>2</th>\n",
       "      <td>3</td>\n",
       "      <td>Male</td>\n",
       "      <td>47</td>\n",
       "      <td>1</td>\n",
       "      <td>28.0</td>\n",
       "      <td>0</td>\n",
       "      <td>&gt; 2 Years</td>\n",
       "      <td>Yes</td>\n",
       "      <td>38294.0</td>\n",
       "      <td>26.0</td>\n",
       "      <td>27</td>\n",
       "      <td>1</td>\n",
       "    </tr>\n",
       "    <tr>\n",
       "      <th>3</th>\n",
       "      <td>4</td>\n",
       "      <td>Male</td>\n",
       "      <td>21</td>\n",
       "      <td>1</td>\n",
       "      <td>11.0</td>\n",
       "      <td>1</td>\n",
       "      <td>&lt; 1 Year</td>\n",
       "      <td>No</td>\n",
       "      <td>28619.0</td>\n",
       "      <td>152.0</td>\n",
       "      <td>203</td>\n",
       "      <td>0</td>\n",
       "    </tr>\n",
       "    <tr>\n",
       "      <th>4</th>\n",
       "      <td>5</td>\n",
       "      <td>Female</td>\n",
       "      <td>29</td>\n",
       "      <td>1</td>\n",
       "      <td>41.0</td>\n",
       "      <td>1</td>\n",
       "      <td>&lt; 1 Year</td>\n",
       "      <td>No</td>\n",
       "      <td>27496.0</td>\n",
       "      <td>152.0</td>\n",
       "      <td>39</td>\n",
       "      <td>0</td>\n",
       "    </tr>\n",
       "  </tbody>\n",
       "</table>\n",
       "</div>"
      ],
      "text/plain": [
       "   id  Gender  Age  Driving_License  Region_Code  Previously_Insured  \\\n",
       "0   1    Male   44                1         28.0                   0   \n",
       "1   2    Male   76                1          3.0                   0   \n",
       "2   3    Male   47                1         28.0                   0   \n",
       "3   4    Male   21                1         11.0                   1   \n",
       "4   5  Female   29                1         41.0                   1   \n",
       "\n",
       "  Vehicle_Age Vehicle_Damage  Annual_Premium  Policy_Sales_Channel  Vintage  \\\n",
       "0   > 2 Years            Yes         40454.0                  26.0      217   \n",
       "1    1-2 Year             No         33536.0                  26.0      183   \n",
       "2   > 2 Years            Yes         38294.0                  26.0       27   \n",
       "3    < 1 Year             No         28619.0                 152.0      203   \n",
       "4    < 1 Year             No         27496.0                 152.0       39   \n",
       "\n",
       "   Response  \n",
       "0         1  \n",
       "1         0  \n",
       "2         1  \n",
       "3         0  \n",
       "4         0  "
      ]
     },
     "execution_count": 101,
     "metadata": {},
     "output_type": "execute_result"
    }
   ],
   "source": [
    "data.head()"
   ]
  },
  {
   "cell_type": "markdown",
   "metadata": {},
   "source": [
    "## Data Exploration observations \n",
    "    1. Entries(rows) : 381109 , cols : input = 10, target = 1 \n",
    "    2. No missing values\n",
    "    3. Gender, Vehicle_Age and Vehicle_Damage are categorial variables -- Encoding \n",
    "    4. Response is Binay -- Binary classification "
   ]
  },
  {
   "cell_type": "code",
   "execution_count": 6,
   "metadata": {},
   "outputs": [
    {
     "data": {
      "text/plain": [
       "1-2 Year     200316\n",
       "< 1 Year     164786\n",
       "> 2 Years     16007\n",
       "Name: Vehicle_Age, dtype: int64"
      ]
     },
     "execution_count": 6,
     "metadata": {},
     "output_type": "execute_result"
    }
   ],
   "source": [
    "data.Vehicle_Age.value_counts()"
   ]
  },
  {
   "cell_type": "code",
   "execution_count": 7,
   "metadata": {},
   "outputs": [
    {
     "data": {
      "text/plain": [
       "Yes    192413\n",
       "No     188696\n",
       "Name: Vehicle_Damage, dtype: int64"
      ]
     },
     "execution_count": 7,
     "metadata": {},
     "output_type": "execute_result"
    }
   ],
   "source": [
    "data.Vehicle_Damage.value_counts()"
   ]
  },
  {
   "cell_type": "code",
   "execution_count": 23,
   "metadata": {},
   "outputs": [
    {
     "data": {
      "text/plain": [
       "0    334399\n",
       "1     46710\n",
       "Name: Response, dtype: int64"
      ]
     },
     "execution_count": 23,
     "metadata": {},
     "output_type": "execute_result"
    }
   ],
   "source": [
    "data.Response.value_counts()"
   ]
  },
  {
   "cell_type": "code",
   "execution_count": 24,
   "metadata": {},
   "outputs": [
    {
     "data": {
      "text/plain": [
       "0.12256336113815208"
      ]
     },
     "execution_count": 24,
     "metadata": {},
     "output_type": "execute_result"
    }
   ],
   "source": [
    "46710/(46710+334399)"
   ]
  },
  {
   "cell_type": "code",
   "execution_count": 102,
   "metadata": {},
   "outputs": [],
   "source": [
    "replaceStruct = {\n",
    "                \"Vehicle_Age\":     {\"< 1 Year\": 1, \"1-2 Year\": 2 ,\"> 2 Years\": 3},\n",
    "                \"Gender\":     {\"Female\": 0, \"Male\": 1 },\n",
    "                \"Vehicle_Damage\":     {\"No\": 0, \"Yes\": 1 } \n",
    "                    }"
   ]
  },
  {
   "cell_type": "code",
   "execution_count": 103,
   "metadata": {},
   "outputs": [],
   "source": [
    "data = data.replace(replaceStruct)"
   ]
  },
  {
   "cell_type": "code",
   "execution_count": 10,
   "metadata": {},
   "outputs": [],
   "source": [
    "y = data['Response']\n",
    "X = data[['Gender', 'Age', 'Driving_License', 'Region_Code',\n",
    "       'Previously_Insured', 'Vehicle_Age', 'Vehicle_Damage', 'Annual_Premium',\n",
    "       'Policy_Sales_Channel', 'Vintage']]"
   ]
  },
  {
   "cell_type": "code",
   "execution_count": 11,
   "metadata": {},
   "outputs": [],
   "source": [
    "x_train, x_test, y_train, y_test = train_test_split(X,y, test_size = 0.2, random_state = 123)"
   ]
  },
  {
   "cell_type": "code",
   "execution_count": 19,
   "metadata": {},
   "outputs": [],
   "source": [
    "folds = KFold(n_splits = 5, shuffle = True, random_state = 123)"
   ]
  },
  {
   "cell_type": "code",
   "execution_count": 63,
   "metadata": {},
   "outputs": [],
   "source": [
    "rf = RandomForestClassifier(n_estimators = 100, max_depth = 9,max_features = 5,  min_samples_split = 50, class_weight =\"balanced\"  )"
   ]
  },
  {
   "cell_type": "code",
   "execution_count": 51,
   "metadata": {},
   "outputs": [
    {
     "name": "stderr",
     "output_type": "stream",
     "text": [
      "[Parallel(n_jobs=-1)]: Using backend LokyBackend with 8 concurrent workers.\n",
      "[Parallel(n_jobs=-1)]: Done   2 out of   5 | elapsed:  1.2min remaining:  1.8min\n",
      "[Parallel(n_jobs=-1)]: Done   5 out of   5 | elapsed:  1.7min finished\n"
     ]
    }
   ],
   "source": [
    "rf_cv_score = cross_val_score(rf, x_train, y_train, cv = folds, verbose = 1, n_jobs=-1, )"
   ]
  },
  {
   "cell_type": "code",
   "execution_count": 52,
   "metadata": {},
   "outputs": [
    {
     "name": "stdout",
     "output_type": "stream",
     "text": [
      "[0.70010496 0.6963167  0.69683651 0.69604933 0.69703331]\n",
      "Mean accuracy: 0.6972681620228601\n",
      "Standard deviation 0.0014614855857086062\n"
     ]
    }
   ],
   "source": [
    "print(rf_cv_score)\n",
    "print(\"Mean accuracy:\", np.mean(rf_cv_score))\n",
    "print(\"Standard deviation\", np.std(rf_cv_score))"
   ]
  },
  {
   "cell_type": "code",
   "execution_count": 64,
   "metadata": {},
   "outputs": [
    {
     "data": {
      "text/plain": [
       "RandomForestClassifier(class_weight='balanced', max_depth=9, max_features=5,\n",
       "                       min_samples_split=50)"
      ]
     },
     "execution_count": 64,
     "metadata": {},
     "output_type": "execute_result"
    }
   ],
   "source": [
    "rf.fit(x_train, y_train)"
   ]
  },
  {
   "cell_type": "code",
   "execution_count": 58,
   "metadata": {},
   "outputs": [],
   "source": [
    "pred = rf.predict(x_test)"
   ]
  },
  {
   "cell_type": "code",
   "execution_count": 59,
   "metadata": {},
   "outputs": [
    {
     "data": {
      "text/plain": [
       "array([[44401, 22496],\n",
       "       [  653,  8672]], dtype=int64)"
      ]
     },
     "execution_count": 59,
     "metadata": {},
     "output_type": "execute_result"
    }
   ],
   "source": [
    "confusion_matrix(y_test, pred)"
   ]
  },
  {
   "cell_type": "code",
   "execution_count": 60,
   "metadata": {},
   "outputs": [
    {
     "data": {
      "text/plain": [
       "0.6962950329301252"
      ]
     },
     "execution_count": 60,
     "metadata": {},
     "output_type": "execute_result"
    }
   ],
   "source": [
    "accuracy_score(y_test, pred)"
   ]
  },
  {
   "cell_type": "code",
   "execution_count": null,
   "metadata": {},
   "outputs": [],
   "source": []
  },
  {
   "cell_type": "markdown",
   "metadata": {},
   "source": [
    "## Feature Engineering "
   ]
  },
  {
   "cell_type": "code",
   "execution_count": 105,
   "metadata": {},
   "outputs": [],
   "source": [
    "\n",
    "data[\"Annual_Premium\"] = np.where(data[\"Annual_Premium\"] >100000, 100000.0,data['Annual_Premium'])"
   ]
  },
  {
   "cell_type": "code",
   "execution_count": 106,
   "metadata": {},
   "outputs": [
    {
     "data": {
      "text/plain": [
       "<matplotlib.axes._subplots.AxesSubplot at 0x254783c6288>"
      ]
     },
     "execution_count": 106,
     "metadata": {},
     "output_type": "execute_result"
    },
    {
     "data": {
      "image/png": "[encoded data removed]",
      "text/plain": [
       "<Figure size 432x288 with 1 Axes>"
      ]
     },
     "metadata": {
      "needs_background": "light"
     },
     "output_type": "display_data"
    }
   ],
   "source": [
    "sns.distplot(data.Annual_Premium)"
   ]
  },
  {
   "cell_type": "code",
   "execution_count": 107,
   "metadata": {},
   "outputs": [],
   "source": [
    "from sklearn.preprocessing import LabelEncoder\n",
    "\n",
    "cat_feat = ['Region_Code', 'Policy_Sales_Channel' ]\n",
    "lb = LabelEncoder()\n",
    "for column in cat_feat:\n",
    "    data[column] = data[column].astype('str')\n",
    "    data[column] = lb.fit_transform(data[column])\n",
    "\n",
    "    "
   ]
  },
  {
   "cell_type": "code",
   "execution_count": 108,
   "metadata": {},
   "outputs": [],
   "source": [
    "from sklearn.preprocessing import MinMaxScaler\n",
    "sc = MinMaxScaler()\n",
    "num_feat = ['Age','Annual_Premium','Vintage' ]\n",
    "\n",
    "for column in num_feat:\n",
    "    data[[column]] = sc.fit_transform(data[[column]])"
   ]
  },
  {
   "cell_type": "code",
   "execution_count": 109,
   "metadata": {},
   "outputs": [],
   "source": [
    "x_train, x_test, y_train, y_test = train_test_split(X,y, test_size = 0.2, random_state = 123)"
   ]
  },
  {
   "cell_type": "code",
   "execution_count": 110,
   "metadata": {},
   "outputs": [
    {
     "name": "stdout",
     "output_type": "stream",
     "text": [
      "<class 'pandas.core.frame.DataFrame'>\n",
      "RangeIndex: 381109 entries, 0 to 381108\n",
      "Data columns (total 12 columns):\n",
      " #   Column                Non-Null Count   Dtype  \n",
      "---  ------                --------------   -----  \n",
      " 0   id                    381109 non-null  int64  \n",
      " 1   Gender                381109 non-null  int64  \n",
      " 2   Age                   381109 non-null  float64\n",
      " 3   Driving_License       381109 non-null  int64  \n",
      " 4   Region_Code           381109 non-null  int32  \n",
      " 5   Previously_Insured    381109 non-null  int64  \n",
      " 6   Vehicle_Age           381109 non-null  int64  \n",
      " 7   Vehicle_Damage        381109 non-null  int64  \n",
      " 8   Annual_Premium        381109 non-null  float64\n",
      " 9   Policy_Sales_Channel  381109 non-null  int32  \n",
      " 10  Vintage               381109 non-null  float64\n",
      " 11  Response              381109 non-null  int64  \n",
      "dtypes: float64(3), int32(2), int64(7)\n",
      "memory usage: 32.0 MB\n"
     ]
    }
   ],
   "source": [
    "data.info()"
   ]
  },
  {
   "cell_type": "code",
   "execution_count": 111,
   "metadata": {},
   "outputs": [
    {
     "data": {
      "text/plain": [
       "0    334399\n",
       "1     46710\n",
       "Name: Response, dtype: int64"
      ]
     },
     "execution_count": 111,
     "metadata": {},
     "output_type": "execute_result"
    }
   ],
   "source": [
    "data.Response.value_counts()"
   ]
  },
  {
   "cell_type": "code",
   "execution_count": 112,
   "metadata": {},
   "outputs": [
    {
     "data": {
      "text/html": [
       "<div>\n",
       "<style scoped>\n",
       "    .dataframe tbody tr th:only-of-type {\n",
       "        vertical-align: middle;\n",
       "    }\n",
       "\n",
       "    .dataframe tbody tr th {\n",
       "        vertical-align: top;\n",
       "    }\n",
       "\n",
       "    .dataframe thead th {\n",
       "        text-align: right;\n",
       "    }\n",
       "</style>\n",
       "<table border=\"1\" class=\"dataframe\">\n",
       "  <thead>\n",
       "    <tr style=\"text-align: right;\">\n",
       "      <th></th>\n",
       "      <th>id</th>\n",
       "      <th>Gender</th>\n",
       "      <th>Age</th>\n",
       "      <th>Driving_License</th>\n",
       "      <th>Region_Code</th>\n",
       "      <th>Previously_Insured</th>\n",
       "      <th>Vehicle_Age</th>\n",
       "      <th>Vehicle_Damage</th>\n",
       "      <th>Annual_Premium</th>\n",
       "      <th>Policy_Sales_Channel</th>\n",
       "      <th>Vintage</th>\n",
       "      <th>Response</th>\n",
       "    </tr>\n",
       "  </thead>\n",
       "  <tbody>\n",
       "    <tr>\n",
       "      <th>0</th>\n",
       "      <td>1</td>\n",
       "      <td>1</td>\n",
       "      <td>0.369231</td>\n",
       "      <td>1</td>\n",
       "      <td>21</td>\n",
       "      <td>0</td>\n",
       "      <td>3</td>\n",
       "      <td>1</td>\n",
       "      <td>0.388456</td>\n",
       "      <td>78</td>\n",
       "      <td>0.716263</td>\n",
       "      <td>1</td>\n",
       "    </tr>\n",
       "    <tr>\n",
       "      <th>1</th>\n",
       "      <td>2</td>\n",
       "      <td>1</td>\n",
       "      <td>0.861538</td>\n",
       "      <td>1</td>\n",
       "      <td>23</td>\n",
       "      <td>0</td>\n",
       "      <td>2</td>\n",
       "      <td>0</td>\n",
       "      <td>0.317408</td>\n",
       "      <td>78</td>\n",
       "      <td>0.598616</td>\n",
       "      <td>0</td>\n",
       "    </tr>\n",
       "    <tr>\n",
       "      <th>2</th>\n",
       "      <td>3</td>\n",
       "      <td>1</td>\n",
       "      <td>0.415385</td>\n",
       "      <td>1</td>\n",
       "      <td>21</td>\n",
       "      <td>0</td>\n",
       "      <td>3</td>\n",
       "      <td>1</td>\n",
       "      <td>0.366273</td>\n",
       "      <td>78</td>\n",
       "      <td>0.058824</td>\n",
       "      <td>1</td>\n",
       "    </tr>\n",
       "    <tr>\n",
       "      <th>3</th>\n",
       "      <td>4</td>\n",
       "      <td>1</td>\n",
       "      <td>0.015385</td>\n",
       "      <td>1</td>\n",
       "      <td>3</td>\n",
       "      <td>1</td>\n",
       "      <td>1</td>\n",
       "      <td>0</td>\n",
       "      <td>0.266910</td>\n",
       "      <td>57</td>\n",
       "      <td>0.667820</td>\n",
       "      <td>0</td>\n",
       "    </tr>\n",
       "    <tr>\n",
       "      <th>4</th>\n",
       "      <td>5</td>\n",
       "      <td>0</td>\n",
       "      <td>0.138462</td>\n",
       "      <td>1</td>\n",
       "      <td>36</td>\n",
       "      <td>1</td>\n",
       "      <td>1</td>\n",
       "      <td>0</td>\n",
       "      <td>0.255376</td>\n",
       "      <td>57</td>\n",
       "      <td>0.100346</td>\n",
       "      <td>0</td>\n",
       "    </tr>\n",
       "  </tbody>\n",
       "</table>\n",
       "</div>"
      ],
      "text/plain": [
       "   id  Gender       Age  Driving_License  Region_Code  Previously_Insured  \\\n",
       "0   1       1  0.369231                1           21                   0   \n",
       "1   2       1  0.861538                1           23                   0   \n",
       "2   3       1  0.415385                1           21                   0   \n",
       "3   4       1  0.015385                1            3                   1   \n",
       "4   5       0  0.138462                1           36                   1   \n",
       "\n",
       "   Vehicle_Age  Vehicle_Damage  Annual_Premium  Policy_Sales_Channel  \\\n",
       "0            3               1        0.388456                    78   \n",
       "1            2               0        0.317408                    78   \n",
       "2            3               1        0.366273                    78   \n",
       "3            1               0        0.266910                    57   \n",
       "4            1               0        0.255376                    57   \n",
       "\n",
       "    Vintage  Response  \n",
       "0  0.716263         1  \n",
       "1  0.598616         0  \n",
       "2  0.058824         1  \n",
       "3  0.667820         0  \n",
       "4  0.100346         0  "
      ]
     },
     "execution_count": 112,
     "metadata": {},
     "output_type": "execute_result"
    }
   ],
   "source": [
    "data.head()"
   ]
  },
  {
   "cell_type": "code",
   "execution_count": 113,
   "metadata": {},
   "outputs": [],
   "source": [
    "y = data['Response']\n",
    "X = data[['Gender', 'Age', 'Region_Code',\n",
    "       'Previously_Insured', 'Vehicle_Age', 'Vehicle_Damage', 'Annual_Premium',\n",
    "       'Policy_Sales_Channel', 'Vintage']]"
   ]
  },
  {
   "cell_type": "code",
   "execution_count": 114,
   "metadata": {},
   "outputs": [
    {
     "data": {
      "text/plain": [
       "0    334399\n",
       "1     46710\n",
       "Name: Response, dtype: int64"
      ]
     },
     "execution_count": 114,
     "metadata": {},
     "output_type": "execute_result"
    }
   ],
   "source": [
    "y.value_counts()"
   ]
  },
  {
   "cell_type": "code",
   "execution_count": 115,
   "metadata": {},
   "outputs": [],
   "source": [
    "x_train, x_test, y_train, y_test = train_test_split(X,y, test_size = 0.2, random_state = 123)"
   ]
  },
  {
   "cell_type": "code",
   "execution_count": 126,
   "metadata": {},
   "outputs": [],
   "source": [
    "rf = RandomForestClassifier(n_estimators = 100, max_depth = 8,max_features = 4,  min_samples_split = 50, class_weight =\"balanced\"  )"
   ]
  },
  {
   "cell_type": "code",
   "execution_count": 127,
   "metadata": {},
   "outputs": [
    {
     "data": {
      "text/plain": [
       "RandomForestClassifier(class_weight='balanced', max_depth=8, max_features=4,\n",
       "                       min_samples_split=50)"
      ]
     },
     "execution_count": 127,
     "metadata": {},
     "output_type": "execute_result"
    }
   ],
   "source": [
    "rf.fit(x_train, y_train)"
   ]
  },
  {
   "cell_type": "code",
   "execution_count": 128,
   "metadata": {},
   "outputs": [],
   "source": [
    "pred = rf.predict(x_test)"
   ]
  },
  {
   "cell_type": "code",
   "execution_count": 129,
   "metadata": {},
   "outputs": [
    {
     "data": {
      "text/plain": [
       "array([[43771, 23126],\n",
       "       [  564,  8761]], dtype=int64)"
      ]
     },
     "execution_count": 129,
     "metadata": {},
     "output_type": "execute_result"
    }
   ],
   "source": [
    "confusion_matrix(y_test, pred)"
   ]
  },
  {
   "cell_type": "code",
   "execution_count": 131,
   "metadata": {},
   "outputs": [
    {
     "name": "stdout",
     "output_type": "stream",
     "text": [
      "Accuracy: 0.6891973445986723\n",
      "Precision: 0.2747514661147176\n",
      "Recall: 0.9395174262734585\n",
      "F1-Score: 0.4251674269630205\n"
     ]
    }
   ],
   "source": [
    "from sklearn.metrics import f1_score\n",
    "print(\"Accuracy:\",accuracy_score(y_test, pred))\n",
    "print(\"Precision:\",precision_score(y_test, pred))\n",
    "print(\"Recall:\",recall_score(y_test, pred))\n",
    "print('F1-Score:',f1_score(y_test, pred))"
   ]
  },
  {
   "cell_type": "markdown",
   "metadata": {},
   "source": [
    "## Grid Search "
   ]
  },
  {
   "cell_type": "code",
   "execution_count": 25,
   "metadata": {},
   "outputs": [
    {
     "name": "stdout",
     "output_type": "stream",
     "text": [
      "Fitting 5 folds for each of 27 candidates, totalling 135 fits\n"
     ]
    },
    {
     "name": "stderr",
     "output_type": "stream",
     "text": [
      "[Parallel(n_jobs=-1)]: Using backend LokyBackend with 8 concurrent workers.\n",
      "[Parallel(n_jobs=-1)]: Done  25 tasks      | elapsed:  3.2min\n",
      "[Parallel(n_jobs=-1)]: Done 135 out of 135 | elapsed: 23.0min finished\n"
     ]
    },
    {
     "data": {
      "text/plain": [
       "RandomForestClassifier(max_depth=9, min_samples_split=30, n_estimators=200)"
      ]
     },
     "execution_count": 25,
     "metadata": {},
     "output_type": "execute_result"
    }
   ],
   "source": [
    "param_dist = {\"max_depth\": [5,7,9],\n",
    "              \"min_samples_split\": [10,20,30],\n",
    "              \"n_estimators\": [100,200,400]\n",
    "             }\n",
    "grid_search = GridSearchCV(rf, n_jobs=-1, param_grid=param_dist, cv = 5, scoring=\"roc_auc\", verbose=2)\n",
    "grid_search.fit(x_train,y_train)\n",
    "grid_search.best_estimator_"
   ]
  },
  {
   "cell_type": "code",
   "execution_count": 28,
   "metadata": {},
   "outputs": [
    {
     "data": {
      "text/plain": [
       "{'mean_fit_time': array([ 26.64355259,  54.19248238, 108.82778144,  27.40730906,\n",
       "         53.10658541, 106.30412884,  26.96170139,  52.76110873,\n",
       "        105.68159394,  34.84741373,  68.97925892, 136.66704516,\n",
       "         34.29887981,  66.63181858, 133.0246738 ,  33.98711286,\n",
       "         66.90588446, 132.5714859 ,  41.15095654,  80.47280555,\n",
       "        164.12809992,  41.90334439,  82.29154215, 164.85874672,\n",
       "         41.51557994,  80.60844383, 125.81676149]),\n",
       " 'std_fit_time': array([0.75006476, 0.60721819, 3.89067522, 0.9721634 , 0.85563523,\n",
       "        0.91282975, 0.34792237, 0.42854924, 1.15996189, 0.61835657,\n",
       "        1.03544242, 1.30636993, 0.83659729, 0.45149995, 1.87695062,\n",
       "        0.52946985, 0.93828222, 1.33214149, 0.3452865 , 1.10440513,\n",
       "        1.80048877, 0.89897535, 1.22362923, 1.67574558, 0.73564398,\n",
       "        1.95518001, 5.63163219]),\n",
       " 'mean_score_time': array([0.66242862, 1.34021707, 2.58349142, 0.65903878, 1.2951376 ,\n",
       "        2.56952848, 0.70730848, 1.29792962, 2.5523736 , 0.7723351 ,\n",
       "        1.49978957, 2.88927507, 0.75777459, 1.49201002, 2.9219871 ,\n",
       "        0.77093911, 1.45850139, 2.86414132, 0.87446222, 1.69406991,\n",
       "        3.49086537, 0.8981987 , 1.73875041, 3.48268743, 0.8993958 ,\n",
       "        1.80816336, 2.50051341]),\n",
       " 'std_score_time': array([0.01816494, 0.07087725, 0.03503171, 0.00395958, 0.03026749,\n",
       "        0.07573686, 0.03985532, 0.01932349, 0.06577894, 0.0097432 ,\n",
       "        0.02832345, 0.03113816, 0.02258726, 0.06139147, 0.02622317,\n",
       "        0.04336755, 0.01955002, 0.01979019, 0.01886446, 0.07495422,\n",
       "        0.09565911, 0.03109141, 0.02807785, 0.13048672, 0.02837973,\n",
       "        0.20309915, 0.22243632]),\n",
       " 'param_max_depth': masked_array(data=[5, 5, 5, 5, 5, 5, 5, 5, 5, 7, 7, 7, 7, 7, 7, 7, 7, 7,\n",
       "                    9, 9, 9, 9, 9, 9, 9, 9, 9],\n",
       "              mask=[False, False, False, False, False, False, False, False,\n",
       "                    False, False, False, False, False, False, False, False,\n",
       "                    False, False, False, False, False, False, False, False,\n",
       "                    False, False, False],\n",
       "        fill_value='?',\n",
       "             dtype=object),\n",
       " 'param_min_samples_split': masked_array(data=[10, 10, 10, 20, 20, 20, 30, 30, 30, 10, 10, 10, 20, 20,\n",
       "                    20, 30, 30, 30, 10, 10, 10, 20, 20, 20, 30, 30, 30],\n",
       "              mask=[False, False, False, False, False, False, False, False,\n",
       "                    False, False, False, False, False, False, False, False,\n",
       "                    False, False, False, False, False, False, False, False,\n",
       "                    False, False, False],\n",
       "        fill_value='?',\n",
       "             dtype=object),\n",
       " 'param_n_estimators': masked_array(data=[100, 200, 400, 100, 200, 400, 100, 200, 400, 100, 200,\n",
       "                    400, 100, 200, 400, 100, 200, 400, 100, 200, 400, 100,\n",
       "                    200, 400, 100, 200, 400],\n",
       "              mask=[False, False, False, False, False, False, False, False,\n",
       "                    False, False, False, False, False, False, False, False,\n",
       "                    False, False, False, False, False, False, False, False,\n",
       "                    False, False, False],\n",
       "        fill_value='?',\n",
       "             dtype=object),\n",
       " 'params': [{'max_depth': 5, 'min_samples_split': 10, 'n_estimators': 100},\n",
       "  {'max_depth': 5, 'min_samples_split': 10, 'n_estimators': 200},\n",
       "  {'max_depth': 5, 'min_samples_split': 10, 'n_estimators': 400},\n",
       "  {'max_depth': 5, 'min_samples_split': 20, 'n_estimators': 100},\n",
       "  {'max_depth': 5, 'min_samples_split': 20, 'n_estimators': 200},\n",
       "  {'max_depth': 5, 'min_samples_split': 20, 'n_estimators': 400},\n",
       "  {'max_depth': 5, 'min_samples_split': 30, 'n_estimators': 100},\n",
       "  {'max_depth': 5, 'min_samples_split': 30, 'n_estimators': 200},\n",
       "  {'max_depth': 5, 'min_samples_split': 30, 'n_estimators': 400},\n",
       "  {'max_depth': 7, 'min_samples_split': 10, 'n_estimators': 100},\n",
       "  {'max_depth': 7, 'min_samples_split': 10, 'n_estimators': 200},\n",
       "  {'max_depth': 7, 'min_samples_split': 10, 'n_estimators': 400},\n",
       "  {'max_depth': 7, 'min_samples_split': 20, 'n_estimators': 100},\n",
       "  {'max_depth': 7, 'min_samples_split': 20, 'n_estimators': 200},\n",
       "  {'max_depth': 7, 'min_samples_split': 20, 'n_estimators': 400},\n",
       "  {'max_depth': 7, 'min_samples_split': 30, 'n_estimators': 100},\n",
       "  {'max_depth': 7, 'min_samples_split': 30, 'n_estimators': 200},\n",
       "  {'max_depth': 7, 'min_samples_split': 30, 'n_estimators': 400},\n",
       "  {'max_depth': 9, 'min_samples_split': 10, 'n_estimators': 100},\n",
       "  {'max_depth': 9, 'min_samples_split': 10, 'n_estimators': 200},\n",
       "  {'max_depth': 9, 'min_samples_split': 10, 'n_estimators': 400},\n",
       "  {'max_depth': 9, 'min_samples_split': 20, 'n_estimators': 100},\n",
       "  {'max_depth': 9, 'min_samples_split': 20, 'n_estimators': 200},\n",
       "  {'max_depth': 9, 'min_samples_split': 20, 'n_estimators': 400},\n",
       "  {'max_depth': 9, 'min_samples_split': 30, 'n_estimators': 100},\n",
       "  {'max_depth': 9, 'min_samples_split': 30, 'n_estimators': 200},\n",
       "  {'max_depth': 9, 'min_samples_split': 30, 'n_estimators': 400}],\n",
       " 'split0_test_score': array([0.84997418, 0.84980583, 0.84903401, 0.85084728, 0.84923304,\n",
       "        0.84972926, 0.84938554, 0.84936228, 0.84959635, 0.85217089,\n",
       "        0.85259458, 0.85264856, 0.85216812, 0.85260359, 0.85223044,\n",
       "        0.85189379, 0.8525753 , 0.85262524, 0.85427389, 0.85439367,\n",
       "        0.85402858, 0.85388051, 0.85425216, 0.85397326, 0.85447963,\n",
       "        0.85416756, 0.85421028]),\n",
       " 'split1_test_score': array([0.85039056, 0.85184586, 0.85156388, 0.8510453 , 0.85115402,\n",
       "        0.85142461, 0.851199  , 0.85164291, 0.85157905, 0.85444886,\n",
       "        0.8542147 , 0.8543496 , 0.8538165 , 0.85427068, 0.85437815,\n",
       "        0.85424827, 0.85411684, 0.85437858, 0.85541127, 0.8556606 ,\n",
       "        0.85573498, 0.85573072, 0.85573734, 0.85581592, 0.85550869,\n",
       "        0.85570094, 0.8559776 ]),\n",
       " 'split2_test_score': array([0.84874086, 0.84888428, 0.84939915, 0.84917739, 0.84945808,\n",
       "        0.8493551 , 0.84947608, 0.84914528, 0.84929273, 0.85206175,\n",
       "        0.85191445, 0.85178683, 0.85150752, 0.85161282, 0.85173664,\n",
       "        0.85191843, 0.851626  , 0.85189978, 0.85380753, 0.85356881,\n",
       "        0.85372674, 0.85376063, 0.85372062, 0.85348829, 0.85347371,\n",
       "        0.8538389 , 0.85361904]),\n",
       " 'split3_test_score': array([0.84792443, 0.84784468, 0.84786426, 0.84772855, 0.84771752,\n",
       "        0.8482462 , 0.84741993, 0.84718742, 0.84762884, 0.85148429,\n",
       "        0.85143991, 0.85161811, 0.85118191, 0.85131393, 0.85130515,\n",
       "        0.85102643, 0.85136474, 0.85127386, 0.85333125, 0.85336945,\n",
       "        0.85357633, 0.85308419, 0.85354929, 0.85338923, 0.85380511,\n",
       "        0.85361149, 0.85351967]),\n",
       " 'split4_test_score': array([0.85079402, 0.85032499, 0.85030258, 0.85061464, 0.85005882,\n",
       "        0.85034058, 0.85035902, 0.85039649, 0.85012167, 0.85281807,\n",
       "        0.85355661, 0.85339003, 0.85348862, 0.85334486, 0.8536223 ,\n",
       "        0.85337991, 0.85352542, 0.8534033 , 0.85514066, 0.8546421 ,\n",
       "        0.85509784, 0.85482054, 0.85484623, 0.85486741, 0.85496116,\n",
       "        0.85499592, 0.85491908]),\n",
       " 'mean_test_score': array([0.84956481, 0.84974113, 0.84963278, 0.84988263, 0.8495243 ,\n",
       "        0.84981915, 0.84956791, 0.84954687, 0.84964373, 0.85259677,\n",
       "        0.85274405, 0.85275863, 0.85243253, 0.85262918, 0.85265454,\n",
       "        0.85249337, 0.85264166, 0.85271615, 0.85439292, 0.85432693,\n",
       "        0.85443289, 0.85425532, 0.85442113, 0.85430682, 0.85444566,\n",
       "        0.85446296, 0.85444913]),\n",
       " 'std_test_score': array([0.00107053, 0.00134949, 0.00124246, 0.0012614 , 0.00112209,\n",
       "        0.00105328, 0.0012603 , 0.00147496, 0.00127743, 0.00101828,\n",
       "        0.00102317, 0.00101854, 0.00105074, 0.00109273, 0.00116195,\n",
       "        0.00115824, 0.00106054, 0.0010946 , 0.00078488, 0.00082146,\n",
       "        0.00084064, 0.00092228, 0.00079906, 0.00091814, 0.00074188,\n",
       "        0.00077696, 0.00091291]),\n",
       " 'rank_test_score': array([25, 21, 23, 19, 27, 20, 24, 26, 22, 16, 11, 10, 18, 15, 13, 17, 14,\n",
       "        12,  6,  7,  4,  9,  5,  8,  3,  1,  2])}"
      ]
     },
     "execution_count": 28,
     "metadata": {},
     "output_type": "execute_result"
    }
   ],
   "source": [
    "grid_search.cv_results_"
   ]
  },
  {
   "cell_type": "code",
   "execution_count": 26,
   "metadata": {},
   "outputs": [],
   "source": [
    "pred = grid_search.predict(x_test)"
   ]
  },
  {
   "cell_type": "code",
   "execution_count": 27,
   "metadata": {},
   "outputs": [
    {
     "name": "stdout",
     "output_type": "stream",
     "text": [
      "Accuracy on test Grid Search : 0.8776599931778227\n"
     ]
    }
   ],
   "source": [
    "rf_score  = accuracy_score(y_test, pred)\n",
    "print(\"Accuracy on test Grid Search :\", rf_score)"
   ]
  },
  {
   "cell_type": "code",
   "execution_count": 29,
   "metadata": {},
   "outputs": [
    {
     "data": {
      "text/plain": [
       "array([[66897,     0],\n",
       "       [ 9325,     0]], dtype=int64)"
      ]
     },
     "execution_count": 29,
     "metadata": {},
     "output_type": "execute_result"
    }
   ],
   "source": [
    "confusion_matrix(y_test, pred)"
   ]
  }
 ],
 "metadata": {
  "kernelspec": {
   "display_name": "Python 3",
   "language": "python",
   "name": "python3"
  },
  "language_info": {
   "codemirror_mode": {
    "name": "ipython",
    "version": 3
   },
   "file_extension": ".py",
   "mimetype": "text/x-python",
   "name": "python",
   "nbconvert_exporter": "python",
   "pygments_lexer": "ipython3",
   "version": "3.7.6"
  }
 },
 "nbformat": 4,
 "nbformat_minor": 4
}
