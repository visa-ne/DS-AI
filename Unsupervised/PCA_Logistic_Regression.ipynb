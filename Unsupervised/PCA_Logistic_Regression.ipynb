{
 "cells": [
  {
   "cell_type": "code",
   "execution_count": 2,
   "metadata": {},
   "outputs": [],
   "source": [
    "## Example code for implementing PCA \n",
    "## Classification with oversampling and undersampling \n",
    "import pandas as pd\n",
    "import numpy as np\n",
    "from sklearn.decomposition import PCA\n",
    "from sklearn.linear_model import LogisticRegression\n",
    "from sklearn.model_selection import train_test_split\n",
    "import matplotlib.pyplot as plt\n",
    "from random import sample"
   ]
  },
  {
   "cell_type": "code",
   "execution_count": 3,
   "metadata": {},
   "outputs": [],
   "source": [
    "t_data = pd.read_csv(\"Churn.csv\")"
   ]
  },
  {
   "cell_type": "code",
   "execution_count": 4,
   "metadata": {},
   "outputs": [
    {
     "data": {
      "text/html": [
       "<div>\n",
       "<style scoped>\n",
       "    .dataframe tbody tr th:only-of-type {\n",
       "        vertical-align: middle;\n",
       "    }\n",
       "\n",
       "    .dataframe tbody tr th {\n",
       "        vertical-align: top;\n",
       "    }\n",
       "\n",
       "    .dataframe thead th {\n",
       "        text-align: right;\n",
       "    }\n",
       "</style>\n",
       "<table border=\"1\" class=\"dataframe\">\n",
       "  <thead>\n",
       "    <tr style=\"text-align: right;\">\n",
       "      <th></th>\n",
       "      <th>Account Length</th>\n",
       "      <th>VMail Message</th>\n",
       "      <th>Day Mins</th>\n",
       "      <th>Eve Mins</th>\n",
       "      <th>Night Mins</th>\n",
       "      <th>Intl Mins</th>\n",
       "      <th>CustServ Calls</th>\n",
       "      <th>Churn</th>\n",
       "      <th>Intl Plan</th>\n",
       "      <th>VMail Plan</th>\n",
       "      <th>...</th>\n",
       "      <th>Day Charge</th>\n",
       "      <th>Eve Calls</th>\n",
       "      <th>Eve Charge</th>\n",
       "      <th>Night Calls</th>\n",
       "      <th>Night Charge</th>\n",
       "      <th>Intl Calls</th>\n",
       "      <th>Intl Charge</th>\n",
       "      <th>State</th>\n",
       "      <th>Area Code</th>\n",
       "      <th>Phone</th>\n",
       "    </tr>\n",
       "  </thead>\n",
       "  <tbody>\n",
       "    <tr>\n",
       "      <th>0</th>\n",
       "      <td>128</td>\n",
       "      <td>25</td>\n",
       "      <td>265.1</td>\n",
       "      <td>197.4</td>\n",
       "      <td>244.7</td>\n",
       "      <td>10.0</td>\n",
       "      <td>1</td>\n",
       "      <td>0</td>\n",
       "      <td>0</td>\n",
       "      <td>1</td>\n",
       "      <td>...</td>\n",
       "      <td>45.07</td>\n",
       "      <td>99</td>\n",
       "      <td>16.78</td>\n",
       "      <td>91</td>\n",
       "      <td>11.01</td>\n",
       "      <td>3</td>\n",
       "      <td>2.70</td>\n",
       "      <td>KS</td>\n",
       "      <td>415</td>\n",
       "      <td>382-4657</td>\n",
       "    </tr>\n",
       "    <tr>\n",
       "      <th>1</th>\n",
       "      <td>107</td>\n",
       "      <td>26</td>\n",
       "      <td>161.6</td>\n",
       "      <td>195.5</td>\n",
       "      <td>254.4</td>\n",
       "      <td>13.7</td>\n",
       "      <td>1</td>\n",
       "      <td>0</td>\n",
       "      <td>0</td>\n",
       "      <td>1</td>\n",
       "      <td>...</td>\n",
       "      <td>27.47</td>\n",
       "      <td>103</td>\n",
       "      <td>16.62</td>\n",
       "      <td>103</td>\n",
       "      <td>11.45</td>\n",
       "      <td>3</td>\n",
       "      <td>3.70</td>\n",
       "      <td>OH</td>\n",
       "      <td>415</td>\n",
       "      <td>371-7191</td>\n",
       "    </tr>\n",
       "    <tr>\n",
       "      <th>2</th>\n",
       "      <td>137</td>\n",
       "      <td>0</td>\n",
       "      <td>243.4</td>\n",
       "      <td>121.2</td>\n",
       "      <td>162.6</td>\n",
       "      <td>12.2</td>\n",
       "      <td>0</td>\n",
       "      <td>0</td>\n",
       "      <td>0</td>\n",
       "      <td>0</td>\n",
       "      <td>...</td>\n",
       "      <td>41.38</td>\n",
       "      <td>110</td>\n",
       "      <td>10.30</td>\n",
       "      <td>104</td>\n",
       "      <td>7.32</td>\n",
       "      <td>5</td>\n",
       "      <td>3.29</td>\n",
       "      <td>NJ</td>\n",
       "      <td>415</td>\n",
       "      <td>358-1921</td>\n",
       "    </tr>\n",
       "    <tr>\n",
       "      <th>3</th>\n",
       "      <td>84</td>\n",
       "      <td>0</td>\n",
       "      <td>299.4</td>\n",
       "      <td>61.9</td>\n",
       "      <td>196.9</td>\n",
       "      <td>6.6</td>\n",
       "      <td>2</td>\n",
       "      <td>0</td>\n",
       "      <td>1</td>\n",
       "      <td>0</td>\n",
       "      <td>...</td>\n",
       "      <td>50.90</td>\n",
       "      <td>88</td>\n",
       "      <td>5.26</td>\n",
       "      <td>89</td>\n",
       "      <td>8.86</td>\n",
       "      <td>7</td>\n",
       "      <td>1.78</td>\n",
       "      <td>OH</td>\n",
       "      <td>408</td>\n",
       "      <td>375-9999</td>\n",
       "    </tr>\n",
       "    <tr>\n",
       "      <th>4</th>\n",
       "      <td>75</td>\n",
       "      <td>0</td>\n",
       "      <td>166.7</td>\n",
       "      <td>148.3</td>\n",
       "      <td>186.9</td>\n",
       "      <td>10.1</td>\n",
       "      <td>3</td>\n",
       "      <td>0</td>\n",
       "      <td>1</td>\n",
       "      <td>0</td>\n",
       "      <td>...</td>\n",
       "      <td>28.34</td>\n",
       "      <td>122</td>\n",
       "      <td>12.61</td>\n",
       "      <td>121</td>\n",
       "      <td>8.41</td>\n",
       "      <td>3</td>\n",
       "      <td>2.73</td>\n",
       "      <td>OK</td>\n",
       "      <td>415</td>\n",
       "      <td>330-6626</td>\n",
       "    </tr>\n",
       "  </tbody>\n",
       "</table>\n",
       "<p>5 rows × 21 columns</p>\n",
       "</div>"
      ],
      "text/plain": [
       "   Account Length  VMail Message  Day Mins  Eve Mins  Night Mins  Intl Mins  \\\n",
       "0             128             25     265.1     197.4       244.7       10.0   \n",
       "1             107             26     161.6     195.5       254.4       13.7   \n",
       "2             137              0     243.4     121.2       162.6       12.2   \n",
       "3              84              0     299.4      61.9       196.9        6.6   \n",
       "4              75              0     166.7     148.3       186.9       10.1   \n",
       "\n",
       "   CustServ Calls  Churn  Intl Plan  VMail Plan  ...  Day Charge  Eve Calls  \\\n",
       "0               1      0          0           1  ...       45.07         99   \n",
       "1               1      0          0           1  ...       27.47        103   \n",
       "2               0      0          0           0  ...       41.38        110   \n",
       "3               2      0          1           0  ...       50.90         88   \n",
       "4               3      0          1           0  ...       28.34        122   \n",
       "\n",
       "   Eve Charge  Night Calls  Night Charge  Intl Calls  Intl Charge  State  \\\n",
       "0       16.78           91         11.01           3         2.70     KS   \n",
       "1       16.62          103         11.45           3         3.70     OH   \n",
       "2       10.30          104          7.32           5         3.29     NJ   \n",
       "3        5.26           89          8.86           7         1.78     OH   \n",
       "4       12.61          121          8.41           3         2.73     OK   \n",
       "\n",
       "  Area Code     Phone  \n",
       "0       415  382-4657  \n",
       "1       415  371-7191  \n",
       "2       415  358-1921  \n",
       "3       408  375-9999  \n",
       "4       415  330-6626  \n",
       "\n",
       "[5 rows x 21 columns]"
      ]
     },
     "execution_count": 4,
     "metadata": {},
     "output_type": "execute_result"
    }
   ],
   "source": [
    "t_data.head()"
   ]
  },
  {
   "cell_type": "markdown",
   "metadata": {},
   "source": [
    "### Drop the columns State, Areacode and Phone"
   ]
  },
  {
   "cell_type": "code",
   "execution_count": 5,
   "metadata": {},
   "outputs": [],
   "source": [
    "t_data.drop(['State','Area Code','Phone'],  axis = 1, inplace=True)"
   ]
  },
  {
   "cell_type": "code",
   "execution_count": 6,
   "metadata": {},
   "outputs": [
    {
     "data": {
      "text/html": [
       "<div>\n",
       "<style scoped>\n",
       "    .dataframe tbody tr th:only-of-type {\n",
       "        vertical-align: middle;\n",
       "    }\n",
       "\n",
       "    .dataframe tbody tr th {\n",
       "        vertical-align: top;\n",
       "    }\n",
       "\n",
       "    .dataframe thead th {\n",
       "        text-align: right;\n",
       "    }\n",
       "</style>\n",
       "<table border=\"1\" class=\"dataframe\">\n",
       "  <thead>\n",
       "    <tr style=\"text-align: right;\">\n",
       "      <th></th>\n",
       "      <th>Account Length</th>\n",
       "      <th>VMail Message</th>\n",
       "      <th>Day Mins</th>\n",
       "      <th>Eve Mins</th>\n",
       "      <th>Night Mins</th>\n",
       "      <th>Intl Mins</th>\n",
       "      <th>CustServ Calls</th>\n",
       "      <th>Churn</th>\n",
       "      <th>Intl Plan</th>\n",
       "      <th>VMail Plan</th>\n",
       "      <th>Day Calls</th>\n",
       "      <th>Day Charge</th>\n",
       "      <th>Eve Calls</th>\n",
       "      <th>Eve Charge</th>\n",
       "      <th>Night Calls</th>\n",
       "      <th>Night Charge</th>\n",
       "      <th>Intl Calls</th>\n",
       "      <th>Intl Charge</th>\n",
       "    </tr>\n",
       "  </thead>\n",
       "  <tbody>\n",
       "    <tr>\n",
       "      <th>Account Length</th>\n",
       "      <td>1.000000</td>\n",
       "      <td>-0.004628</td>\n",
       "      <td>0.006216</td>\n",
       "      <td>-0.006757</td>\n",
       "      <td>-0.008955</td>\n",
       "      <td>0.009514</td>\n",
       "      <td>-0.003796</td>\n",
       "      <td>0.016541</td>\n",
       "      <td>0.024735</td>\n",
       "      <td>0.002918</td>\n",
       "      <td>0.038470</td>\n",
       "      <td>0.006214</td>\n",
       "      <td>0.019260</td>\n",
       "      <td>-0.006745</td>\n",
       "      <td>-0.013176</td>\n",
       "      <td>-0.008960</td>\n",
       "      <td>0.020661</td>\n",
       "      <td>0.009546</td>\n",
       "    </tr>\n",
       "    <tr>\n",
       "      <th>VMail Message</th>\n",
       "      <td>-0.004628</td>\n",
       "      <td>1.000000</td>\n",
       "      <td>0.000778</td>\n",
       "      <td>0.017562</td>\n",
       "      <td>0.007681</td>\n",
       "      <td>0.002856</td>\n",
       "      <td>-0.013263</td>\n",
       "      <td>-0.089728</td>\n",
       "      <td>0.008745</td>\n",
       "      <td>0.956927</td>\n",
       "      <td>-0.009548</td>\n",
       "      <td>0.000776</td>\n",
       "      <td>-0.005864</td>\n",
       "      <td>0.017578</td>\n",
       "      <td>0.007123</td>\n",
       "      <td>0.007663</td>\n",
       "      <td>0.013957</td>\n",
       "      <td>0.002884</td>\n",
       "    </tr>\n",
       "    <tr>\n",
       "      <th>Day Mins</th>\n",
       "      <td>0.006216</td>\n",
       "      <td>0.000778</td>\n",
       "      <td>1.000000</td>\n",
       "      <td>0.007043</td>\n",
       "      <td>0.004323</td>\n",
       "      <td>-0.010155</td>\n",
       "      <td>-0.013423</td>\n",
       "      <td>0.205151</td>\n",
       "      <td>0.049396</td>\n",
       "      <td>-0.001684</td>\n",
       "      <td>0.006750</td>\n",
       "      <td>1.000000</td>\n",
       "      <td>0.015769</td>\n",
       "      <td>0.007029</td>\n",
       "      <td>0.022972</td>\n",
       "      <td>0.004300</td>\n",
       "      <td>0.008033</td>\n",
       "      <td>-0.010092</td>\n",
       "    </tr>\n",
       "    <tr>\n",
       "      <th>Eve Mins</th>\n",
       "      <td>-0.006757</td>\n",
       "      <td>0.017562</td>\n",
       "      <td>0.007043</td>\n",
       "      <td>1.000000</td>\n",
       "      <td>-0.012584</td>\n",
       "      <td>-0.011035</td>\n",
       "      <td>-0.012985</td>\n",
       "      <td>0.092796</td>\n",
       "      <td>0.019100</td>\n",
       "      <td>0.021545</td>\n",
       "      <td>-0.021451</td>\n",
       "      <td>0.007050</td>\n",
       "      <td>-0.011430</td>\n",
       "      <td>1.000000</td>\n",
       "      <td>0.007586</td>\n",
       "      <td>-0.012593</td>\n",
       "      <td>0.002541</td>\n",
       "      <td>-0.011067</td>\n",
       "    </tr>\n",
       "    <tr>\n",
       "      <th>Night Mins</th>\n",
       "      <td>-0.008955</td>\n",
       "      <td>0.007681</td>\n",
       "      <td>0.004323</td>\n",
       "      <td>-0.012584</td>\n",
       "      <td>1.000000</td>\n",
       "      <td>-0.015207</td>\n",
       "      <td>-0.009288</td>\n",
       "      <td>0.035493</td>\n",
       "      <td>-0.028905</td>\n",
       "      <td>0.006079</td>\n",
       "      <td>0.022938</td>\n",
       "      <td>0.004324</td>\n",
       "      <td>-0.002093</td>\n",
       "      <td>-0.012592</td>\n",
       "      <td>0.011204</td>\n",
       "      <td>0.999999</td>\n",
       "      <td>-0.012353</td>\n",
       "      <td>-0.015180</td>\n",
       "    </tr>\n",
       "    <tr>\n",
       "      <th>Intl Mins</th>\n",
       "      <td>0.009514</td>\n",
       "      <td>0.002856</td>\n",
       "      <td>-0.010155</td>\n",
       "      <td>-0.011035</td>\n",
       "      <td>-0.015207</td>\n",
       "      <td>1.000000</td>\n",
       "      <td>-0.009640</td>\n",
       "      <td>0.068239</td>\n",
       "      <td>0.045871</td>\n",
       "      <td>-0.001318</td>\n",
       "      <td>0.021565</td>\n",
       "      <td>-0.010157</td>\n",
       "      <td>0.008703</td>\n",
       "      <td>-0.011043</td>\n",
       "      <td>-0.013605</td>\n",
       "      <td>-0.015214</td>\n",
       "      <td>0.032304</td>\n",
       "      <td>0.999993</td>\n",
       "    </tr>\n",
       "    <tr>\n",
       "      <th>CustServ Calls</th>\n",
       "      <td>-0.003796</td>\n",
       "      <td>-0.013263</td>\n",
       "      <td>-0.013423</td>\n",
       "      <td>-0.012985</td>\n",
       "      <td>-0.009288</td>\n",
       "      <td>-0.009640</td>\n",
       "      <td>1.000000</td>\n",
       "      <td>0.208750</td>\n",
       "      <td>-0.024522</td>\n",
       "      <td>-0.017824</td>\n",
       "      <td>-0.018942</td>\n",
       "      <td>-0.013427</td>\n",
       "      <td>0.002423</td>\n",
       "      <td>-0.012987</td>\n",
       "      <td>-0.012802</td>\n",
       "      <td>-0.009277</td>\n",
       "      <td>-0.017561</td>\n",
       "      <td>-0.009675</td>\n",
       "    </tr>\n",
       "    <tr>\n",
       "      <th>Churn</th>\n",
       "      <td>0.016541</td>\n",
       "      <td>-0.089728</td>\n",
       "      <td>0.205151</td>\n",
       "      <td>0.092796</td>\n",
       "      <td>0.035493</td>\n",
       "      <td>0.068239</td>\n",
       "      <td>0.208750</td>\n",
       "      <td>1.000000</td>\n",
       "      <td>0.259852</td>\n",
       "      <td>-0.102148</td>\n",
       "      <td>0.018459</td>\n",
       "      <td>0.205151</td>\n",
       "      <td>0.009233</td>\n",
       "      <td>0.092786</td>\n",
       "      <td>0.006141</td>\n",
       "      <td>0.035496</td>\n",
       "      <td>-0.052844</td>\n",
       "      <td>0.068259</td>\n",
       "    </tr>\n",
       "    <tr>\n",
       "      <th>Intl Plan</th>\n",
       "      <td>0.024735</td>\n",
       "      <td>0.008745</td>\n",
       "      <td>0.049396</td>\n",
       "      <td>0.019100</td>\n",
       "      <td>-0.028905</td>\n",
       "      <td>0.045871</td>\n",
       "      <td>-0.024522</td>\n",
       "      <td>0.259852</td>\n",
       "      <td>1.000000</td>\n",
       "      <td>0.006006</td>\n",
       "      <td>0.003755</td>\n",
       "      <td>0.049398</td>\n",
       "      <td>0.006114</td>\n",
       "      <td>0.019106</td>\n",
       "      <td>0.012451</td>\n",
       "      <td>-0.028913</td>\n",
       "      <td>0.017366</td>\n",
       "      <td>0.045780</td>\n",
       "    </tr>\n",
       "    <tr>\n",
       "      <th>VMail Plan</th>\n",
       "      <td>0.002918</td>\n",
       "      <td>0.956927</td>\n",
       "      <td>-0.001684</td>\n",
       "      <td>0.021545</td>\n",
       "      <td>0.006079</td>\n",
       "      <td>-0.001318</td>\n",
       "      <td>-0.017824</td>\n",
       "      <td>-0.102148</td>\n",
       "      <td>0.006006</td>\n",
       "      <td>1.000000</td>\n",
       "      <td>-0.011086</td>\n",
       "      <td>-0.001686</td>\n",
       "      <td>-0.006444</td>\n",
       "      <td>0.021559</td>\n",
       "      <td>0.015553</td>\n",
       "      <td>0.006064</td>\n",
       "      <td>0.007618</td>\n",
       "      <td>-0.001276</td>\n",
       "    </tr>\n",
       "    <tr>\n",
       "      <th>Day Calls</th>\n",
       "      <td>0.038470</td>\n",
       "      <td>-0.009548</td>\n",
       "      <td>0.006750</td>\n",
       "      <td>-0.021451</td>\n",
       "      <td>0.022938</td>\n",
       "      <td>0.021565</td>\n",
       "      <td>-0.018942</td>\n",
       "      <td>0.018459</td>\n",
       "      <td>0.003755</td>\n",
       "      <td>-0.011086</td>\n",
       "      <td>1.000000</td>\n",
       "      <td>0.006753</td>\n",
       "      <td>0.006462</td>\n",
       "      <td>-0.021449</td>\n",
       "      <td>-0.019557</td>\n",
       "      <td>0.022927</td>\n",
       "      <td>0.004574</td>\n",
       "      <td>0.021666</td>\n",
       "    </tr>\n",
       "    <tr>\n",
       "      <th>Day Charge</th>\n",
       "      <td>0.006214</td>\n",
       "      <td>0.000776</td>\n",
       "      <td>1.000000</td>\n",
       "      <td>0.007050</td>\n",
       "      <td>0.004324</td>\n",
       "      <td>-0.010157</td>\n",
       "      <td>-0.013427</td>\n",
       "      <td>0.205151</td>\n",
       "      <td>0.049398</td>\n",
       "      <td>-0.001686</td>\n",
       "      <td>0.006753</td>\n",
       "      <td>1.000000</td>\n",
       "      <td>0.015769</td>\n",
       "      <td>0.007036</td>\n",
       "      <td>0.022972</td>\n",
       "      <td>0.004301</td>\n",
       "      <td>0.008032</td>\n",
       "      <td>-0.010094</td>\n",
       "    </tr>\n",
       "    <tr>\n",
       "      <th>Eve Calls</th>\n",
       "      <td>0.019260</td>\n",
       "      <td>-0.005864</td>\n",
       "      <td>0.015769</td>\n",
       "      <td>-0.011430</td>\n",
       "      <td>-0.002093</td>\n",
       "      <td>0.008703</td>\n",
       "      <td>0.002423</td>\n",
       "      <td>0.009233</td>\n",
       "      <td>0.006114</td>\n",
       "      <td>-0.006444</td>\n",
       "      <td>0.006462</td>\n",
       "      <td>0.015769</td>\n",
       "      <td>1.000000</td>\n",
       "      <td>-0.011423</td>\n",
       "      <td>0.007710</td>\n",
       "      <td>-0.002056</td>\n",
       "      <td>0.017434</td>\n",
       "      <td>0.008674</td>\n",
       "    </tr>\n",
       "    <tr>\n",
       "      <th>Eve Charge</th>\n",
       "      <td>-0.006745</td>\n",
       "      <td>0.017578</td>\n",
       "      <td>0.007029</td>\n",
       "      <td>1.000000</td>\n",
       "      <td>-0.012592</td>\n",
       "      <td>-0.011043</td>\n",
       "      <td>-0.012987</td>\n",
       "      <td>0.092786</td>\n",
       "      <td>0.019106</td>\n",
       "      <td>0.021559</td>\n",
       "      <td>-0.021449</td>\n",
       "      <td>0.007036</td>\n",
       "      <td>-0.011423</td>\n",
       "      <td>1.000000</td>\n",
       "      <td>0.007596</td>\n",
       "      <td>-0.012601</td>\n",
       "      <td>0.002541</td>\n",
       "      <td>-0.011074</td>\n",
       "    </tr>\n",
       "    <tr>\n",
       "      <th>Night Calls</th>\n",
       "      <td>-0.013176</td>\n",
       "      <td>0.007123</td>\n",
       "      <td>0.022972</td>\n",
       "      <td>0.007586</td>\n",
       "      <td>0.011204</td>\n",
       "      <td>-0.013605</td>\n",
       "      <td>-0.012802</td>\n",
       "      <td>0.006141</td>\n",
       "      <td>0.012451</td>\n",
       "      <td>0.015553</td>\n",
       "      <td>-0.019557</td>\n",
       "      <td>0.022972</td>\n",
       "      <td>0.007710</td>\n",
       "      <td>0.007596</td>\n",
       "      <td>1.000000</td>\n",
       "      <td>0.011188</td>\n",
       "      <td>0.000305</td>\n",
       "      <td>-0.013630</td>\n",
       "    </tr>\n",
       "    <tr>\n",
       "      <th>Night Charge</th>\n",
       "      <td>-0.008960</td>\n",
       "      <td>0.007663</td>\n",
       "      <td>0.004300</td>\n",
       "      <td>-0.012593</td>\n",
       "      <td>0.999999</td>\n",
       "      <td>-0.015214</td>\n",
       "      <td>-0.009277</td>\n",
       "      <td>0.035496</td>\n",
       "      <td>-0.028913</td>\n",
       "      <td>0.006064</td>\n",
       "      <td>0.022927</td>\n",
       "      <td>0.004301</td>\n",
       "      <td>-0.002056</td>\n",
       "      <td>-0.012601</td>\n",
       "      <td>0.011188</td>\n",
       "      <td>1.000000</td>\n",
       "      <td>-0.012329</td>\n",
       "      <td>-0.015186</td>\n",
       "    </tr>\n",
       "    <tr>\n",
       "      <th>Intl Calls</th>\n",
       "      <td>0.020661</td>\n",
       "      <td>0.013957</td>\n",
       "      <td>0.008033</td>\n",
       "      <td>0.002541</td>\n",
       "      <td>-0.012353</td>\n",
       "      <td>0.032304</td>\n",
       "      <td>-0.017561</td>\n",
       "      <td>-0.052844</td>\n",
       "      <td>0.017366</td>\n",
       "      <td>0.007618</td>\n",
       "      <td>0.004574</td>\n",
       "      <td>0.008032</td>\n",
       "      <td>0.017434</td>\n",
       "      <td>0.002541</td>\n",
       "      <td>0.000305</td>\n",
       "      <td>-0.012329</td>\n",
       "      <td>1.000000</td>\n",
       "      <td>0.032372</td>\n",
       "    </tr>\n",
       "    <tr>\n",
       "      <th>Intl Charge</th>\n",
       "      <td>0.009546</td>\n",
       "      <td>0.002884</td>\n",
       "      <td>-0.010092</td>\n",
       "      <td>-0.011067</td>\n",
       "      <td>-0.015180</td>\n",
       "      <td>0.999993</td>\n",
       "      <td>-0.009675</td>\n",
       "      <td>0.068259</td>\n",
       "      <td>0.045780</td>\n",
       "      <td>-0.001276</td>\n",
       "      <td>0.021666</td>\n",
       "      <td>-0.010094</td>\n",
       "      <td>0.008674</td>\n",
       "      <td>-0.011074</td>\n",
       "      <td>-0.013630</td>\n",
       "      <td>-0.015186</td>\n",
       "      <td>0.032372</td>\n",
       "      <td>1.000000</td>\n",
       "    </tr>\n",
       "  </tbody>\n",
       "</table>\n",
       "</div>"
      ],
      "text/plain": [
       "                Account Length  VMail Message  Day Mins  Eve Mins  Night Mins  \\\n",
       "Account Length        1.000000      -0.004628  0.006216 -0.006757   -0.008955   \n",
       "VMail Message        -0.004628       1.000000  0.000778  0.017562    0.007681   \n",
       "Day Mins              0.006216       0.000778  1.000000  0.007043    0.004323   \n",
       "Eve Mins             -0.006757       0.017562  0.007043  1.000000   -0.012584   \n",
       "Night Mins           -0.008955       0.007681  0.004323 -0.012584    1.000000   \n",
       "Intl Mins             0.009514       0.002856 -0.010155 -0.011035   -0.015207   \n",
       "CustServ Calls       -0.003796      -0.013263 -0.013423 -0.012985   -0.009288   \n",
       "Churn                 0.016541      -0.089728  0.205151  0.092796    0.035493   \n",
       "Intl Plan             0.024735       0.008745  0.049396  0.019100   -0.028905   \n",
       "VMail Plan            0.002918       0.956927 -0.001684  0.021545    0.006079   \n",
       "Day Calls             0.038470      -0.009548  0.006750 -0.021451    0.022938   \n",
       "Day Charge            0.006214       0.000776  1.000000  0.007050    0.004324   \n",
       "Eve Calls             0.019260      -0.005864  0.015769 -0.011430   -0.002093   \n",
       "Eve Charge           -0.006745       0.017578  0.007029  1.000000   -0.012592   \n",
       "Night Calls          -0.013176       0.007123  0.022972  0.007586    0.011204   \n",
       "Night Charge         -0.008960       0.007663  0.004300 -0.012593    0.999999   \n",
       "Intl Calls            0.020661       0.013957  0.008033  0.002541   -0.012353   \n",
       "Intl Charge           0.009546       0.002884 -0.010092 -0.011067   -0.015180   \n",
       "\n",
       "                Intl Mins  CustServ Calls     Churn  Intl Plan  VMail Plan  \\\n",
       "Account Length   0.009514       -0.003796  0.016541   0.024735    0.002918   \n",
       "VMail Message    0.002856       -0.013263 -0.089728   0.008745    0.956927   \n",
       "Day Mins        -0.010155       -0.013423  0.205151   0.049396   -0.001684   \n",
       "Eve Mins        -0.011035       -0.012985  0.092796   0.019100    0.021545   \n",
       "Night Mins      -0.015207       -0.009288  0.035493  -0.028905    0.006079   \n",
       "Intl Mins        1.000000       -0.009640  0.068239   0.045871   -0.001318   \n",
       "CustServ Calls  -0.009640        1.000000  0.208750  -0.024522   -0.017824   \n",
       "Churn            0.068239        0.208750  1.000000   0.259852   -0.102148   \n",
       "Intl Plan        0.045871       -0.024522  0.259852   1.000000    0.006006   \n",
       "VMail Plan      -0.001318       -0.017824 -0.102148   0.006006    1.000000   \n",
       "Day Calls        0.021565       -0.018942  0.018459   0.003755   -0.011086   \n",
       "Day Charge      -0.010157       -0.013427  0.205151   0.049398   -0.001686   \n",
       "Eve Calls        0.008703        0.002423  0.009233   0.006114   -0.006444   \n",
       "Eve Charge      -0.011043       -0.012987  0.092786   0.019106    0.021559   \n",
       "Night Calls     -0.013605       -0.012802  0.006141   0.012451    0.015553   \n",
       "Night Charge    -0.015214       -0.009277  0.035496  -0.028913    0.006064   \n",
       "Intl Calls       0.032304       -0.017561 -0.052844   0.017366    0.007618   \n",
       "Intl Charge      0.999993       -0.009675  0.068259   0.045780   -0.001276   \n",
       "\n",
       "                Day Calls  Day Charge  Eve Calls  Eve Charge  Night Calls  \\\n",
       "Account Length   0.038470    0.006214   0.019260   -0.006745    -0.013176   \n",
       "VMail Message   -0.009548    0.000776  -0.005864    0.017578     0.007123   \n",
       "Day Mins         0.006750    1.000000   0.015769    0.007029     0.022972   \n",
       "Eve Mins        -0.021451    0.007050  -0.011430    1.000000     0.007586   \n",
       "Night Mins       0.022938    0.004324  -0.002093   -0.012592     0.011204   \n",
       "Intl Mins        0.021565   -0.010157   0.008703   -0.011043    -0.013605   \n",
       "CustServ Calls  -0.018942   -0.013427   0.002423   -0.012987    -0.012802   \n",
       "Churn            0.018459    0.205151   0.009233    0.092786     0.006141   \n",
       "Intl Plan        0.003755    0.049398   0.006114    0.019106     0.012451   \n",
       "VMail Plan      -0.011086   -0.001686  -0.006444    0.021559     0.015553   \n",
       "Day Calls        1.000000    0.006753   0.006462   -0.021449    -0.019557   \n",
       "Day Charge       0.006753    1.000000   0.015769    0.007036     0.022972   \n",
       "Eve Calls        0.006462    0.015769   1.000000   -0.011423     0.007710   \n",
       "Eve Charge      -0.021449    0.007036  -0.011423    1.000000     0.007596   \n",
       "Night Calls     -0.019557    0.022972   0.007710    0.007596     1.000000   \n",
       "Night Charge     0.022927    0.004301  -0.002056   -0.012601     0.011188   \n",
       "Intl Calls       0.004574    0.008032   0.017434    0.002541     0.000305   \n",
       "Intl Charge      0.021666   -0.010094   0.008674   -0.011074    -0.013630   \n",
       "\n",
       "                Night Charge  Intl Calls  Intl Charge  \n",
       "Account Length     -0.008960    0.020661     0.009546  \n",
       "VMail Message       0.007663    0.013957     0.002884  \n",
       "Day Mins            0.004300    0.008033    -0.010092  \n",
       "Eve Mins           -0.012593    0.002541    -0.011067  \n",
       "Night Mins          0.999999   -0.012353    -0.015180  \n",
       "Intl Mins          -0.015214    0.032304     0.999993  \n",
       "CustServ Calls     -0.009277   -0.017561    -0.009675  \n",
       "Churn               0.035496   -0.052844     0.068259  \n",
       "Intl Plan          -0.028913    0.017366     0.045780  \n",
       "VMail Plan          0.006064    0.007618    -0.001276  \n",
       "Day Calls           0.022927    0.004574     0.021666  \n",
       "Day Charge          0.004301    0.008032    -0.010094  \n",
       "Eve Calls          -0.002056    0.017434     0.008674  \n",
       "Eve Charge         -0.012601    0.002541    -0.011074  \n",
       "Night Calls         0.011188    0.000305    -0.013630  \n",
       "Night Charge        1.000000   -0.012329    -0.015186  \n",
       "Intl Calls         -0.012329    1.000000     0.032372  \n",
       "Intl Charge        -0.015186    0.032372     1.000000  "
      ]
     },
     "execution_count": 6,
     "metadata": {},
     "output_type": "execute_result"
    }
   ],
   "source": [
    "t_data.corr()"
   ]
  },
  {
   "cell_type": "code",
   "execution_count": 7,
   "metadata": {},
   "outputs": [
    {
     "data": {
      "text/plain": [
       "Index(['Account Length', 'VMail Message', 'Day Mins', 'Eve Mins', 'Night Mins',\n",
       "       'Intl Mins', 'CustServ Calls', 'Churn', 'Intl Plan', 'VMail Plan',\n",
       "       'Day Calls', 'Day Charge', 'Eve Calls', 'Eve Charge', 'Night Calls',\n",
       "       'Night Charge', 'Intl Calls', 'Intl Charge'],\n",
       "      dtype='object')"
      ]
     },
     "execution_count": 7,
     "metadata": {},
     "output_type": "execute_result"
    }
   ],
   "source": [
    "t_data.columns"
   ]
  },
  {
   "cell_type": "code",
   "execution_count": 8,
   "metadata": {},
   "outputs": [
    {
     "data": {
      "text/plain": [
       "0    2850\n",
       "1     483\n",
       "Name: Churn, dtype: int64"
      ]
     },
     "execution_count": 8,
     "metadata": {},
     "output_type": "execute_result"
    }
   ],
   "source": [
    "t_data.Churn.value_counts()"
   ]
  },
  {
   "cell_type": "code",
   "execution_count": 9,
   "metadata": {},
   "outputs": [],
   "source": [
    "## oversampling and undersmapling to balance the classes\n",
    "## Sepearate YMajority and Minority class and select a sample of majority to balance the classes\n",
    "\n",
    "t_0 = t_data[t_data[\"Churn\"] == 0]\n",
    "t_1 = t_data[t_data[\"Churn\"] == 1]"
   ]
  },
  {
   "cell_type": "code",
   "execution_count": 10,
   "metadata": {},
   "outputs": [],
   "source": [
    "t_0_sample= t_0.sample(frac = 0.4, random_state=123)"
   ]
  },
  {
   "cell_type": "code",
   "execution_count": 11,
   "metadata": {},
   "outputs": [
    {
     "data": {
      "text/plain": [
       "pandas.core.frame.DataFrame"
      ]
     },
     "execution_count": 11,
     "metadata": {},
     "output_type": "execute_result"
    }
   ],
   "source": [
    "type(t_0_sample)"
   ]
  },
  {
   "cell_type": "code",
   "execution_count": 12,
   "metadata": {},
   "outputs": [
    {
     "data": {
      "text/plain": [
       "(1140, 18)"
      ]
     },
     "execution_count": 12,
     "metadata": {},
     "output_type": "execute_result"
    }
   ],
   "source": [
    "t_0_sample.shape"
   ]
  },
  {
   "cell_type": "code",
   "execution_count": 13,
   "metadata": {},
   "outputs": [
    {
     "data": {
      "text/plain": [
       "(483, 18)"
      ]
     },
     "execution_count": 13,
     "metadata": {},
     "output_type": "execute_result"
    }
   ],
   "source": [
    "t_1.shape"
   ]
  },
  {
   "cell_type": "code",
   "execution_count": 14,
   "metadata": {},
   "outputs": [],
   "source": [
    "t_data = pd.concat([t_1, t_0_sample],  ignore_index=True)"
   ]
  },
  {
   "cell_type": "code",
   "execution_count": 15,
   "metadata": {},
   "outputs": [
    {
     "data": {
      "text/plain": [
       "(1623, 18)"
      ]
     },
     "execution_count": 15,
     "metadata": {},
     "output_type": "execute_result"
    }
   ],
   "source": [
    "## Blanced dataset\n",
    "t_data.shape"
   ]
  },
  {
   "cell_type": "code",
   "execution_count": 16,
   "metadata": {},
   "outputs": [
    {
     "data": {
      "text/plain": [
       "0    1140\n",
       "1     483\n",
       "Name: Churn, dtype: int64"
      ]
     },
     "execution_count": 16,
     "metadata": {},
     "output_type": "execute_result"
    }
   ],
   "source": [
    "### Nearly 70% vs 30% balance \n",
    "t_data.Churn.value_counts()"
   ]
  },
  {
   "cell_type": "code",
   "execution_count": 17,
   "metadata": {},
   "outputs": [
    {
     "data": {
      "text/plain": [
       "0.2975970425138632"
      ]
     },
     "execution_count": 17,
     "metadata": {},
     "output_type": "execute_result"
    }
   ],
   "source": [
    "483/(483+1140)"
   ]
  },
  {
   "cell_type": "code",
   "execution_count": 18,
   "metadata": {},
   "outputs": [],
   "source": [
    "## Seperate target and input variables\n",
    "x = t_data[['Account Length', 'VMail Message', 'Day Mins', 'Eve Mins', 'Night Mins',\n",
    "       'Intl Mins', 'CustServ Calls', 'Intl Plan', 'VMail Plan',\n",
    "       'Day Calls', 'Day Charge', 'Eve Calls', 'Eve Charge', 'Night Calls',\n",
    "       'Night Charge', 'Intl Calls', 'Intl Charge']]\n",
    "y = t_data[ 'Churn']"
   ]
  },
  {
   "cell_type": "code",
   "execution_count": 19,
   "metadata": {},
   "outputs": [
    {
     "data": {
      "text/plain": [
       "0    1140\n",
       "1     483\n",
       "Name: Churn, dtype: int64"
      ]
     },
     "execution_count": 19,
     "metadata": {},
     "output_type": "execute_result"
    }
   ],
   "source": [
    "y.value_counts()"
   ]
  },
  {
   "cell_type": "code",
   "execution_count": 20,
   "metadata": {},
   "outputs": [],
   "source": [
    "## create train and test splits\n",
    "x_train,x_test,y_train,y_test = train_test_split(x,y, test_size = 0.2, random_state = 123)"
   ]
  },
  {
   "cell_type": "code",
   "execution_count": 21,
   "metadata": {},
   "outputs": [
    {
     "name": "stderr",
     "output_type": "stream",
     "text": [
      "C:\\Users\\apiuser\\anaconda3\\lib\\site-packages\\sklearn\\linear_model\\_logistic.py:764: ConvergenceWarning: lbfgs failed to converge (status=1):\n",
      "STOP: TOTAL NO. of ITERATIONS REACHED LIMIT.\n",
      "\n",
      "Increase the number of iterations (max_iter) or scale the data as shown in:\n",
      "    https://scikit-learn.org/stable/modules/preprocessing.html\n",
      "Please also refer to the documentation for alternative solver options:\n",
      "    https://scikit-learn.org/stable/modules/linear_model.html#logistic-regression\n",
      "  extra_warning_msg=_LOGISTIC_SOLVER_CONVERGENCE_MSG)\n"
     ]
    },
    {
     "data": {
      "text/plain": [
       "LogisticRegression()"
      ]
     },
     "execution_count": 21,
     "metadata": {},
     "output_type": "execute_result"
    }
   ],
   "source": [
    "## Fit the logistic regression using all the variables\n",
    "## caution : Multicolleniarity exist \n",
    "## Not a stable model. \n",
    "lg = LogisticRegression()\n",
    "lg.fit(x_train, y_train)"
   ]
  },
  {
   "cell_type": "code",
   "execution_count": 22,
   "metadata": {},
   "outputs": [],
   "source": [
    "pred = lg.predict(x_test)"
   ]
  },
  {
   "cell_type": "code",
   "execution_count": 23,
   "metadata": {},
   "outputs": [
    {
     "data": {
      "text/plain": [
       "array([0, 0, 0, 0, 0, 0, 0, 0, 0, 0, 0, 0, 0, 0, 1, 0, 1, 0, 0, 0, 0, 0,\n",
       "       0, 1, 1, 0, 0, 0, 0, 0, 0, 0, 0, 0, 0, 0, 1, 0, 0, 0, 0, 0, 0, 0,\n",
       "       0, 1, 0, 0, 0, 0, 0, 0, 0, 0, 0, 1, 1, 0, 0, 0, 1, 1, 0, 0, 0, 0,\n",
       "       0, 0, 0, 0, 0, 0, 0, 0, 0, 0, 0, 0, 0, 0, 0, 0, 0, 0, 1, 0, 0, 0,\n",
       "       0, 0, 0, 0, 1, 0, 1, 0, 0, 0, 1, 0, 0, 0, 0, 0, 1, 0, 0, 0, 0, 0,\n",
       "       0, 1, 0, 0, 0, 1, 0, 0, 0, 0, 1, 1, 0, 0, 0, 0, 0, 0, 0, 1, 0, 0,\n",
       "       1, 0, 0, 0, 0, 0, 0, 0, 0, 0, 1, 0, 0, 0, 1, 0, 0, 0, 0, 0, 1, 0,\n",
       "       1, 0, 0, 0, 1, 0, 0, 1, 0, 0, 0, 0, 1, 0, 0, 0, 0, 1, 0, 0, 0, 0,\n",
       "       1, 0, 1, 1, 0, 0, 0, 0, 1, 0, 0, 1, 0, 0, 1, 0, 0, 0, 0, 0, 0, 0,\n",
       "       0, 0, 0, 0, 0, 0, 0, 0, 0, 0, 0, 1, 0, 0, 0, 0, 0, 0, 0, 0, 0, 0,\n",
       "       0, 0, 0, 0, 0, 1, 0, 1, 0, 0, 0, 1, 1, 0, 1, 0, 0, 0, 0, 1, 1, 0,\n",
       "       0, 0, 0, 0, 0, 0, 0, 0, 0, 0, 0, 1, 1, 0, 0, 0, 0, 1, 0, 0, 0, 0,\n",
       "       0, 0, 0, 0, 0, 0, 0, 0, 0, 0, 1, 0, 0, 0, 0, 0, 0, 0, 1, 0, 0, 1,\n",
       "       0, 0, 0, 0, 0, 0, 0, 0, 1, 1, 0, 1, 0, 0, 0, 0, 0, 0, 0, 1, 0, 0,\n",
       "       0, 0, 0, 0, 0, 0, 0, 0, 0, 1, 0, 0, 0, 0, 0, 0, 0], dtype=int64)"
      ]
     },
     "execution_count": 23,
     "metadata": {},
     "output_type": "execute_result"
    }
   ],
   "source": [
    "pred"
   ]
  },
  {
   "cell_type": "code",
   "execution_count": 24,
   "metadata": {},
   "outputs": [
    {
     "name": "stdout",
     "output_type": "stream",
     "text": [
      "[[208  26]\n",
      " [ 63  28]]\n",
      "0.7261538461538461\n"
     ]
    }
   ],
   "source": [
    "from sklearn.metrics import confusion_matrix, accuracy_score\n",
    "print(confusion_matrix(y_test, pred))\n",
    "print(accuracy_score(y_test, pred))"
   ]
  },
  {
   "cell_type": "markdown",
   "metadata": {},
   "source": [
    "### A lot of input variables (17) some of them even exhibit multicollinearity \n",
    "### Use PCA for dimensionality reduction and train model using reduced features aka Principal components"
   ]
  },
  {
   "cell_type": "code",
   "execution_count": 25,
   "metadata": {},
   "outputs": [],
   "source": [
    "## Scaling is must before computing principal components \n",
    "## Using standarad(zscore) scaler to transform the data\n",
    "from sklearn.preprocessing import StandardScaler\n",
    "sc = StandardScaler()\n",
    "x_std = sc.fit_transform(x)"
   ]
  },
  {
   "cell_type": "code",
   "execution_count": 26,
   "metadata": {},
   "outputs": [
    {
     "data": {
      "text/plain": [
       "array([[-0.92999561, -0.54559764, -0.9604423 , ...,  0.121848  ,\n",
       "         0.67382084,  0.83846131],\n",
       "       [ 1.46918242, -0.54559764,  2.55054991, ..., -0.8512754 ,\n",
       "         1.91468078, -1.74319789],\n",
       "       [-0.63009836, -0.54559764, -2.10952562, ...,  0.13530132,\n",
       "         0.67382084, -1.63835894],\n",
       "       ...,\n",
       "       [-1.82968737, -0.54559764, -0.4729002 , ...,  1.5927442 ,\n",
       "        -0.98065908, -0.36718664],\n",
       "       [ 0.49451634, -0.54559764, -0.6761863 , ...,  0.51199425,\n",
       "         0.26020086,  0.65499314],\n",
       "       [-0.23023535, -0.54559764,  0.946657  , ..., -0.68983557,\n",
       "         2.32830076,  0.19632273]])"
      ]
     },
     "execution_count": 26,
     "metadata": {},
     "output_type": "execute_result"
    }
   ],
   "source": [
    "x_std"
   ]
  },
  {
   "cell_type": "code",
   "execution_count": 27,
   "metadata": {},
   "outputs": [],
   "source": [
    "## converting it to a dataframe to verify the data\n",
    "x = pd.DataFrame(x_std, columns = x_train.columns)"
   ]
  },
  {
   "cell_type": "code",
   "execution_count": 28,
   "metadata": {},
   "outputs": [
    {
     "data": {
      "text/html": [
       "<div>\n",
       "<style scoped>\n",
       "    .dataframe tbody tr th:only-of-type {\n",
       "        vertical-align: middle;\n",
       "    }\n",
       "\n",
       "    .dataframe tbody tr th {\n",
       "        vertical-align: top;\n",
       "    }\n",
       "\n",
       "    .dataframe thead th {\n",
       "        text-align: right;\n",
       "    }\n",
       "</style>\n",
       "<table border=\"1\" class=\"dataframe\">\n",
       "  <thead>\n",
       "    <tr style=\"text-align: right;\">\n",
       "      <th></th>\n",
       "      <th>Account Length</th>\n",
       "      <th>VMail Message</th>\n",
       "      <th>Day Mins</th>\n",
       "      <th>Eve Mins</th>\n",
       "      <th>Night Mins</th>\n",
       "      <th>Intl Mins</th>\n",
       "      <th>CustServ Calls</th>\n",
       "      <th>Intl Plan</th>\n",
       "      <th>VMail Plan</th>\n",
       "      <th>Day Calls</th>\n",
       "      <th>Day Charge</th>\n",
       "      <th>Eve Calls</th>\n",
       "      <th>Eve Charge</th>\n",
       "      <th>Night Calls</th>\n",
       "      <th>Night Charge</th>\n",
       "      <th>Intl Calls</th>\n",
       "      <th>Intl Charge</th>\n",
       "    </tr>\n",
       "  </thead>\n",
       "  <tbody>\n",
       "    <tr>\n",
       "      <th>0</th>\n",
       "      <td>-0.929996</td>\n",
       "      <td>-0.545598</td>\n",
       "      <td>-0.960442</td>\n",
       "      <td>0.518670</td>\n",
       "      <td>0.120084</td>\n",
       "      <td>0.837855</td>\n",
       "      <td>1.621311</td>\n",
       "      <td>-0.392859</td>\n",
       "      <td>-0.568101</td>\n",
       "      <td>1.755693</td>\n",
       "      <td>-0.960202</td>\n",
       "      <td>-0.867128</td>\n",
       "      <td>0.518047</td>\n",
       "      <td>0.554761</td>\n",
       "      <td>0.121848</td>\n",
       "      <td>0.673821</td>\n",
       "      <td>0.838461</td>\n",
       "    </tr>\n",
       "    <tr>\n",
       "      <th>1</th>\n",
       "      <td>1.469182</td>\n",
       "      <td>-0.545598</td>\n",
       "      <td>2.550550</td>\n",
       "      <td>2.249002</td>\n",
       "      <td>-0.852620</td>\n",
       "      <td>-1.745170</td>\n",
       "      <td>1.621311</td>\n",
       "      <td>-0.392859</td>\n",
       "      <td>-0.568101</td>\n",
       "      <td>-1.662953</td>\n",
       "      <td>2.550208</td>\n",
       "      <td>-0.164983</td>\n",
       "      <td>2.248280</td>\n",
       "      <td>1.426126</td>\n",
       "      <td>-0.851275</td>\n",
       "      <td>1.914681</td>\n",
       "      <td>-1.743198</td>\n",
       "    </tr>\n",
       "    <tr>\n",
       "      <th>2</th>\n",
       "      <td>-0.630098</td>\n",
       "      <td>-0.545598</td>\n",
       "      <td>-2.109526</td>\n",
       "      <td>-0.616800</td>\n",
       "      <td>0.136228</td>\n",
       "      <td>-1.639019</td>\n",
       "      <td>2.316526</td>\n",
       "      <td>-0.392859</td>\n",
       "      <td>-0.568101</td>\n",
       "      <td>-0.588521</td>\n",
       "      <td>-2.109395</td>\n",
       "      <td>1.038693</td>\n",
       "      <td>-0.617204</td>\n",
       "      <td>-1.854308</td>\n",
       "      <td>0.135301</td>\n",
       "      <td>0.673821</td>\n",
       "      <td>-1.638359</td>\n",
       "    </tr>\n",
       "    <tr>\n",
       "      <th>3</th>\n",
       "      <td>-2.254542</td>\n",
       "      <td>-0.545598</td>\n",
       "      <td>1.115488</td>\n",
       "      <td>0.981771</td>\n",
       "      <td>1.560977</td>\n",
       "      <td>0.519400</td>\n",
       "      <td>-0.464333</td>\n",
       "      <td>-0.392859</td>\n",
       "      <td>-0.568101</td>\n",
       "      <td>0.827775</td>\n",
       "      <td>1.115237</td>\n",
       "      <td>0.938387</td>\n",
       "      <td>0.980811</td>\n",
       "      <td>-0.521632</td>\n",
       "      <td>1.561353</td>\n",
       "      <td>-0.567039</td>\n",
       "      <td>0.523944</td>\n",
       "    </tr>\n",
       "    <tr>\n",
       "      <th>4</th>\n",
       "      <td>0.819405</td>\n",
       "      <td>2.550046</td>\n",
       "      <td>-0.202426</td>\n",
       "      <td>0.042005</td>\n",
       "      <td>-1.627555</td>\n",
       "      <td>1.510150</td>\n",
       "      <td>-1.159548</td>\n",
       "      <td>2.545440</td>\n",
       "      <td>1.760251</td>\n",
       "      <td>-0.783872</td>\n",
       "      <td>-0.202181</td>\n",
       "      <td>0.336549</td>\n",
       "      <td>0.041606</td>\n",
       "      <td>-1.136713</td>\n",
       "      <td>-1.627083</td>\n",
       "      <td>4.396401</td>\n",
       "      <td>1.506810</td>\n",
       "    </tr>\n",
       "  </tbody>\n",
       "</table>\n",
       "</div>"
      ],
      "text/plain": [
       "   Account Length  VMail Message  Day Mins  Eve Mins  Night Mins  Intl Mins  \\\n",
       "0       -0.929996      -0.545598 -0.960442  0.518670    0.120084   0.837855   \n",
       "1        1.469182      -0.545598  2.550550  2.249002   -0.852620  -1.745170   \n",
       "2       -0.630098      -0.545598 -2.109526 -0.616800    0.136228  -1.639019   \n",
       "3       -2.254542      -0.545598  1.115488  0.981771    1.560977   0.519400   \n",
       "4        0.819405       2.550046 -0.202426  0.042005   -1.627555   1.510150   \n",
       "\n",
       "   CustServ Calls  Intl Plan  VMail Plan  Day Calls  Day Charge  Eve Calls  \\\n",
       "0        1.621311  -0.392859   -0.568101   1.755693   -0.960202  -0.867128   \n",
       "1        1.621311  -0.392859   -0.568101  -1.662953    2.550208  -0.164983   \n",
       "2        2.316526  -0.392859   -0.568101  -0.588521   -2.109395   1.038693   \n",
       "3       -0.464333  -0.392859   -0.568101   0.827775    1.115237   0.938387   \n",
       "4       -1.159548   2.545440    1.760251  -0.783872   -0.202181   0.336549   \n",
       "\n",
       "   Eve Charge  Night Calls  Night Charge  Intl Calls  Intl Charge  \n",
       "0    0.518047     0.554761      0.121848    0.673821     0.838461  \n",
       "1    2.248280     1.426126     -0.851275    1.914681    -1.743198  \n",
       "2   -0.617204    -1.854308      0.135301    0.673821    -1.638359  \n",
       "3    0.980811    -0.521632      1.561353   -0.567039     0.523944  \n",
       "4    0.041606    -1.136713     -1.627083    4.396401     1.506810  "
      ]
     },
     "execution_count": 28,
     "metadata": {},
     "output_type": "execute_result"
    }
   ],
   "source": [
    "x.head()"
   ]
  },
  {
   "cell_type": "code",
   "execution_count": 29,
   "metadata": {},
   "outputs": [],
   "source": [
    "## compute the principal components on the standardised data\n",
    "\n",
    "from sklearn.decomposition import PCA\n",
    "pc = PCA()\n",
    "\n",
    "x_pc = pc.fit_transform(x)"
   ]
  },
  {
   "cell_type": "code",
   "execution_count": 30,
   "metadata": {},
   "outputs": [
    {
     "data": {
      "text/plain": [
       "array([2.25756306e+00, 2.14719741e+00, 1.95329687e+00, 1.92949371e+00,\n",
       "       1.75064364e+00, 1.07182338e+00, 1.02890202e+00, 1.01252509e+00,\n",
       "       1.00697364e+00, 9.59961331e-01, 9.43452392e-01, 9.09222516e-01,\n",
       "       3.94176496e-02, 7.09158013e-06, 8.19569861e-07, 2.20093279e-07,\n",
       "       4.17316802e-08])"
      ]
     },
     "execution_count": 30,
     "metadata": {},
     "output_type": "execute_result"
    }
   ],
   "source": [
    "## Amount of variance explained by each principal component \n",
    "pc.explained_variance_"
   ]
  },
  {
   "cell_type": "markdown",
   "metadata": {},
   "source": [
    "### Notice that the variance explained by the initial principal components is higer and gradullay decreases "
   ]
  },
  {
   "cell_type": "code",
   "execution_count": 31,
   "metadata": {},
   "outputs": [],
   "source": [
    "## cumulative variance explained to identify the proportion of variance \n",
    "cu_sum = np.cumsum(pc.explained_variance_)"
   ]
  },
  {
   "cell_type": "code",
   "execution_count": 32,
   "metadata": {},
   "outputs": [
    {
     "data": {
      "text/plain": [
       "array([ 2.25756306,  4.40476046,  6.35805734,  8.28755105, 10.03819469,\n",
       "       11.11001807, 12.13892009, 13.15144519, 14.15841883, 15.11838016,\n",
       "       16.06183255, 16.97105507, 17.01047271, 17.01047981, 17.01048063,\n",
       "       17.01048085, 17.01048089])"
      ]
     },
     "execution_count": 32,
     "metadata": {},
     "output_type": "execute_result"
    }
   ],
   "source": [
    "cu_sum"
   ]
  },
  {
   "cell_type": "code",
   "execution_count": 33,
   "metadata": {},
   "outputs": [],
   "source": [
    "## Cumulative proportion of variance explained by each Principal component in respective order\n",
    "prop_var = (cu_sum/np.sum(pc.explained_variance_))*100"
   ]
  },
  {
   "cell_type": "code",
   "execution_count": 34,
   "metadata": {},
   "outputs": [
    {
     "data": {
      "text/plain": [
       "array([ 13.27160045,  25.89439118,  37.37729332,  48.72026312,\n",
       "        59.01182192,  65.31278068,  71.36141637,  77.31377657,\n",
       "        83.23350128,  88.87685338,  94.42315391,  99.76822629,\n",
       "        99.99995195,  99.99999364,  99.99999846,  99.99999975,\n",
       "       100.        ])"
      ]
     },
     "execution_count": 34,
     "metadata": {},
     "output_type": "execute_result"
    }
   ],
   "source": [
    "prop_var"
   ]
  },
  {
   "cell_type": "markdown",
   "metadata": {},
   "source": [
    "### The first 7 principal components roughly explains 71% of the variance "
   ]
  },
  {
   "cell_type": "code",
   "execution_count": 35,
   "metadata": {},
   "outputs": [
    {
     "data": {
      "text/plain": [
       "17"
      ]
     },
     "execution_count": 35,
     "metadata": {},
     "output_type": "execute_result"
    }
   ],
   "source": [
    "len(prop_var)"
   ]
  },
  {
   "cell_type": "code",
   "execution_count": 36,
   "metadata": {},
   "outputs": [
    {
     "data": {
      "image/png": "[encoded data removed]",
      "text/plain": [
       "<Figure size 432x288 with 1 Axes>"
      ]
     },
     "metadata": {
      "needs_background": "light"
     },
     "output_type": "display_data"
    }
   ],
   "source": [
    "plt.figure(figsize=(6 , 4))\n",
    "plt.bar(range(17), pc.explained_variance_, alpha = 0.5, align = 'center', label = 'Individual explained variance')\n",
    "plt.step(range(17), cu_sum, where='mid', label = 'Cumulative explained variance')\n",
    "plt.ylabel('Explained Variance Ratio')\n",
    "plt.xlabel('Principal Components')\n",
    "plt.legend(loc = 'best')\n",
    "plt.tight_layout()\n",
    "plt.show()"
   ]
  },
  {
   "cell_type": "code",
   "execution_count": 37,
   "metadata": {},
   "outputs": [
    {
     "data": {
      "text/plain": [
       "array([[ 4.26202094e-01, -6.22544728e-01,  2.03861743e-01, ...,\n",
       "        -1.23862678e-03, -4.40707248e-04,  1.74935160e-04],\n",
       "       [-3.73361977e+00, -6.03726242e-01,  2.19924366e+00, ...,\n",
       "        -1.04621496e-03, -5.63522302e-04, -2.33668780e-04],\n",
       "       [ 2.28489978e+00,  2.71313810e+00,  1.37416752e+00, ...,\n",
       "         7.84318802e-04, -3.50276891e-04,  9.67114163e-05],\n",
       "       ...,\n",
       "       [-1.14999841e-01,  2.53772458e+00, -9.08753250e-01, ...,\n",
       "         4.13971686e-04,  8.02740129e-04,  8.92295166e-05],\n",
       "       [-9.28134448e-01, -1.10273908e+00, -1.09178711e-01, ...,\n",
       "        -2.85749102e-04,  7.15120913e-05, -1.95227656e-04],\n",
       "       [-1.54768748e+00, -1.34684778e+00,  9.68139513e-01, ...,\n",
       "        -9.88572996e-04, -5.35097549e-04,  2.44822309e-04]])"
      ]
     },
     "execution_count": 37,
     "metadata": {},
     "output_type": "execute_result"
    }
   ],
   "source": [
    "x_pc"
   ]
  },
  {
   "cell_type": "code",
   "execution_count": 38,
   "metadata": {},
   "outputs": [],
   "source": [
    "## converting the principal components to a dataframe for easy handling\n",
    "x_pc_df = pd.DataFrame(x_pc)"
   ]
  },
  {
   "cell_type": "code",
   "execution_count": 39,
   "metadata": {},
   "outputs": [
    {
     "data": {
      "text/html": [
       "<div>\n",
       "<style scoped>\n",
       "    .dataframe tbody tr th:only-of-type {\n",
       "        vertical-align: middle;\n",
       "    }\n",
       "\n",
       "    .dataframe tbody tr th {\n",
       "        vertical-align: top;\n",
       "    }\n",
       "\n",
       "    .dataframe thead th {\n",
       "        text-align: right;\n",
       "    }\n",
       "</style>\n",
       "<table border=\"1\" class=\"dataframe\">\n",
       "  <thead>\n",
       "    <tr style=\"text-align: right;\">\n",
       "      <th></th>\n",
       "      <th>0</th>\n",
       "      <th>1</th>\n",
       "      <th>2</th>\n",
       "      <th>3</th>\n",
       "      <th>4</th>\n",
       "      <th>5</th>\n",
       "      <th>6</th>\n",
       "      <th>7</th>\n",
       "      <th>8</th>\n",
       "      <th>9</th>\n",
       "      <th>10</th>\n",
       "      <th>11</th>\n",
       "      <th>12</th>\n",
       "      <th>13</th>\n",
       "      <th>14</th>\n",
       "      <th>15</th>\n",
       "      <th>16</th>\n",
       "    </tr>\n",
       "  </thead>\n",
       "  <tbody>\n",
       "    <tr>\n",
       "      <th>0</th>\n",
       "      <td>0.426202</td>\n",
       "      <td>-0.622545</td>\n",
       "      <td>0.203862</td>\n",
       "      <td>-0.496837</td>\n",
       "      <td>-1.966037</td>\n",
       "      <td>-0.078687</td>\n",
       "      <td>-0.221998</td>\n",
       "      <td>-2.115933</td>\n",
       "      <td>-0.545310</td>\n",
       "      <td>0.393452</td>\n",
       "      <td>0.584224</td>\n",
       "      <td>1.622066</td>\n",
       "      <td>-0.020591</td>\n",
       "      <td>-0.000438</td>\n",
       "      <td>-0.001239</td>\n",
       "      <td>-0.000441</td>\n",
       "      <td>0.000175</td>\n",
       "    </tr>\n",
       "    <tr>\n",
       "      <th>1</th>\n",
       "      <td>-3.733620</td>\n",
       "      <td>-0.603726</td>\n",
       "      <td>2.199244</td>\n",
       "      <td>2.495576</td>\n",
       "      <td>1.773887</td>\n",
       "      <td>0.333836</td>\n",
       "      <td>2.117836</td>\n",
       "      <td>-1.072851</td>\n",
       "      <td>0.796748</td>\n",
       "      <td>2.636826</td>\n",
       "      <td>-1.683964</td>\n",
       "      <td>-0.156683</td>\n",
       "      <td>-0.026792</td>\n",
       "      <td>-0.001177</td>\n",
       "      <td>-0.001046</td>\n",
       "      <td>-0.000564</td>\n",
       "      <td>-0.000234</td>\n",
       "    </tr>\n",
       "    <tr>\n",
       "      <th>2</th>\n",
       "      <td>2.284900</td>\n",
       "      <td>2.713138</td>\n",
       "      <td>1.374168</td>\n",
       "      <td>0.764766</td>\n",
       "      <td>-1.633349</td>\n",
       "      <td>-0.726851</td>\n",
       "      <td>-0.012030</td>\n",
       "      <td>-0.457236</td>\n",
       "      <td>2.596173</td>\n",
       "      <td>0.916759</td>\n",
       "      <td>0.905385</td>\n",
       "      <td>0.251841</td>\n",
       "      <td>0.012466</td>\n",
       "      <td>-0.000630</td>\n",
       "      <td>0.000784</td>\n",
       "      <td>-0.000350</td>\n",
       "      <td>0.000097</td>\n",
       "    </tr>\n",
       "    <tr>\n",
       "      <th>3</th>\n",
       "      <td>-2.930953</td>\n",
       "      <td>-0.003353</td>\n",
       "      <td>-1.166049</td>\n",
       "      <td>-0.105833</td>\n",
       "      <td>-0.981110</td>\n",
       "      <td>0.535511</td>\n",
       "      <td>-0.651162</td>\n",
       "      <td>-0.395779</td>\n",
       "      <td>0.749291</td>\n",
       "      <td>-1.691444</td>\n",
       "      <td>1.589993</td>\n",
       "      <td>0.568742</td>\n",
       "      <td>-0.009338</td>\n",
       "      <td>-0.002912</td>\n",
       "      <td>-0.000196</td>\n",
       "      <td>-0.000623</td>\n",
       "      <td>-0.000193</td>\n",
       "    </tr>\n",
       "    <tr>\n",
       "      <th>4</th>\n",
       "      <td>2.190197</td>\n",
       "      <td>-3.829548</td>\n",
       "      <td>-1.363185</td>\n",
       "      <td>0.008886</td>\n",
       "      <td>1.729684</td>\n",
       "      <td>-1.285492</td>\n",
       "      <td>2.469223</td>\n",
       "      <td>2.017709</td>\n",
       "      <td>0.082426</td>\n",
       "      <td>2.823734</td>\n",
       "      <td>2.229394</td>\n",
       "      <td>-0.062012</td>\n",
       "      <td>-0.538304</td>\n",
       "      <td>0.002177</td>\n",
       "      <td>-0.000467</td>\n",
       "      <td>-0.000397</td>\n",
       "      <td>0.000182</td>\n",
       "    </tr>\n",
       "  </tbody>\n",
       "</table>\n",
       "</div>"
      ],
      "text/plain": [
       "          0         1         2         3         4         5         6  \\\n",
       "0  0.426202 -0.622545  0.203862 -0.496837 -1.966037 -0.078687 -0.221998   \n",
       "1 -3.733620 -0.603726  2.199244  2.495576  1.773887  0.333836  2.117836   \n",
       "2  2.284900  2.713138  1.374168  0.764766 -1.633349 -0.726851 -0.012030   \n",
       "3 -2.930953 -0.003353 -1.166049 -0.105833 -0.981110  0.535511 -0.651162   \n",
       "4  2.190197 -3.829548 -1.363185  0.008886  1.729684 -1.285492  2.469223   \n",
       "\n",
       "          7         8         9        10        11        12        13  \\\n",
       "0 -2.115933 -0.545310  0.393452  0.584224  1.622066 -0.020591 -0.000438   \n",
       "1 -1.072851  0.796748  2.636826 -1.683964 -0.156683 -0.026792 -0.001177   \n",
       "2 -0.457236  2.596173  0.916759  0.905385  0.251841  0.012466 -0.000630   \n",
       "3 -0.395779  0.749291 -1.691444  1.589993  0.568742 -0.009338 -0.002912   \n",
       "4  2.017709  0.082426  2.823734  2.229394 -0.062012 -0.538304  0.002177   \n",
       "\n",
       "         14        15        16  \n",
       "0 -0.001239 -0.000441  0.000175  \n",
       "1 -0.001046 -0.000564 -0.000234  \n",
       "2  0.000784 -0.000350  0.000097  \n",
       "3 -0.000196 -0.000623 -0.000193  \n",
       "4 -0.000467 -0.000397  0.000182  "
      ]
     },
     "execution_count": 39,
     "metadata": {},
     "output_type": "execute_result"
    }
   ],
   "source": [
    "x_pc_df.head()"
   ]
  },
  {
   "cell_type": "code",
   "execution_count": 40,
   "metadata": {},
   "outputs": [],
   "source": [
    "### Slecting the first 7 principal components for training the model. \n",
    "## Remember the first 7 principal components explains the around 71% of the varianc ein the input variables \n",
    "x_df  = x_pc_df.iloc[:,:7]"
   ]
  },
  {
   "cell_type": "code",
   "execution_count": 41,
   "metadata": {},
   "outputs": [
    {
     "data": {
      "text/html": [
       "<div>\n",
       "<style scoped>\n",
       "    .dataframe tbody tr th:only-of-type {\n",
       "        vertical-align: middle;\n",
       "    }\n",
       "\n",
       "    .dataframe tbody tr th {\n",
       "        vertical-align: top;\n",
       "    }\n",
       "\n",
       "    .dataframe thead th {\n",
       "        text-align: right;\n",
       "    }\n",
       "</style>\n",
       "<table border=\"1\" class=\"dataframe\">\n",
       "  <thead>\n",
       "    <tr style=\"text-align: right;\">\n",
       "      <th></th>\n",
       "      <th>0</th>\n",
       "      <th>1</th>\n",
       "      <th>2</th>\n",
       "      <th>3</th>\n",
       "      <th>4</th>\n",
       "      <th>5</th>\n",
       "      <th>6</th>\n",
       "    </tr>\n",
       "  </thead>\n",
       "  <tbody>\n",
       "    <tr>\n",
       "      <th>0</th>\n",
       "      <td>0.426202</td>\n",
       "      <td>-0.622545</td>\n",
       "      <td>0.203862</td>\n",
       "      <td>-0.496837</td>\n",
       "      <td>-1.966037</td>\n",
       "      <td>-0.078687</td>\n",
       "      <td>-0.221998</td>\n",
       "    </tr>\n",
       "    <tr>\n",
       "      <th>1</th>\n",
       "      <td>-3.733620</td>\n",
       "      <td>-0.603726</td>\n",
       "      <td>2.199244</td>\n",
       "      <td>2.495576</td>\n",
       "      <td>1.773887</td>\n",
       "      <td>0.333836</td>\n",
       "      <td>2.117836</td>\n",
       "    </tr>\n",
       "    <tr>\n",
       "      <th>2</th>\n",
       "      <td>2.284900</td>\n",
       "      <td>2.713138</td>\n",
       "      <td>1.374168</td>\n",
       "      <td>0.764766</td>\n",
       "      <td>-1.633349</td>\n",
       "      <td>-0.726851</td>\n",
       "      <td>-0.012030</td>\n",
       "    </tr>\n",
       "    <tr>\n",
       "      <th>3</th>\n",
       "      <td>-2.930953</td>\n",
       "      <td>-0.003353</td>\n",
       "      <td>-1.166049</td>\n",
       "      <td>-0.105833</td>\n",
       "      <td>-0.981110</td>\n",
       "      <td>0.535511</td>\n",
       "      <td>-0.651162</td>\n",
       "    </tr>\n",
       "    <tr>\n",
       "      <th>4</th>\n",
       "      <td>2.190197</td>\n",
       "      <td>-3.829548</td>\n",
       "      <td>-1.363185</td>\n",
       "      <td>0.008886</td>\n",
       "      <td>1.729684</td>\n",
       "      <td>-1.285492</td>\n",
       "      <td>2.469223</td>\n",
       "    </tr>\n",
       "  </tbody>\n",
       "</table>\n",
       "</div>"
      ],
      "text/plain": [
       "          0         1         2         3         4         5         6\n",
       "0  0.426202 -0.622545  0.203862 -0.496837 -1.966037 -0.078687 -0.221998\n",
       "1 -3.733620 -0.603726  2.199244  2.495576  1.773887  0.333836  2.117836\n",
       "2  2.284900  2.713138  1.374168  0.764766 -1.633349 -0.726851 -0.012030\n",
       "3 -2.930953 -0.003353 -1.166049 -0.105833 -0.981110  0.535511 -0.651162\n",
       "4  2.190197 -3.829548 -1.363185  0.008886  1.729684 -1.285492  2.469223"
      ]
     },
     "execution_count": 41,
     "metadata": {},
     "output_type": "execute_result"
    }
   ],
   "source": [
    "x_df.head()"
   ]
  },
  {
   "cell_type": "code",
   "execution_count": 42,
   "metadata": {},
   "outputs": [
    {
     "name": "stdout",
     "output_type": "stream",
     "text": [
      "(1623, 7)\n"
     ]
    }
   ],
   "source": [
    "print(x_df.shape)"
   ]
  },
  {
   "cell_type": "code",
   "execution_count": 43,
   "metadata": {},
   "outputs": [
    {
     "data": {
      "text/html": [
       "<div>\n",
       "<style scoped>\n",
       "    .dataframe tbody tr th:only-of-type {\n",
       "        vertical-align: middle;\n",
       "    }\n",
       "\n",
       "    .dataframe tbody tr th {\n",
       "        vertical-align: top;\n",
       "    }\n",
       "\n",
       "    .dataframe thead th {\n",
       "        text-align: right;\n",
       "    }\n",
       "</style>\n",
       "<table border=\"1\" class=\"dataframe\">\n",
       "  <thead>\n",
       "    <tr style=\"text-align: right;\">\n",
       "      <th></th>\n",
       "      <th>0</th>\n",
       "      <th>1</th>\n",
       "      <th>2</th>\n",
       "      <th>3</th>\n",
       "      <th>4</th>\n",
       "      <th>5</th>\n",
       "      <th>6</th>\n",
       "    </tr>\n",
       "  </thead>\n",
       "  <tbody>\n",
       "    <tr>\n",
       "      <th>0</th>\n",
       "      <td>1.000000e+00</td>\n",
       "      <td>3.556555e-17</td>\n",
       "      <td>8.637761e-17</td>\n",
       "      <td>5.104825e-16</td>\n",
       "      <td>2.188905e-16</td>\n",
       "      <td>-3.889825e-17</td>\n",
       "      <td>6.646823e-18</td>\n",
       "    </tr>\n",
       "    <tr>\n",
       "      <th>1</th>\n",
       "      <td>3.556555e-17</td>\n",
       "      <td>1.000000e+00</td>\n",
       "      <td>5.855626e-16</td>\n",
       "      <td>6.599001e-16</td>\n",
       "      <td>6.946425e-16</td>\n",
       "      <td>-4.602163e-17</td>\n",
       "      <td>-1.994917e-16</td>\n",
       "    </tr>\n",
       "    <tr>\n",
       "      <th>2</th>\n",
       "      <td>8.637761e-17</td>\n",
       "      <td>5.855626e-16</td>\n",
       "      <td>1.000000e+00</td>\n",
       "      <td>-4.873844e-16</td>\n",
       "      <td>-6.614745e-16</td>\n",
       "      <td>-4.262245e-17</td>\n",
       "      <td>-1.092146e-16</td>\n",
       "    </tr>\n",
       "    <tr>\n",
       "      <th>3</th>\n",
       "      <td>5.104825e-16</td>\n",
       "      <td>6.599001e-16</td>\n",
       "      <td>-4.873844e-16</td>\n",
       "      <td>1.000000e+00</td>\n",
       "      <td>-1.600939e-16</td>\n",
       "      <td>9.697811e-19</td>\n",
       "      <td>-7.333036e-17</td>\n",
       "    </tr>\n",
       "    <tr>\n",
       "      <th>4</th>\n",
       "      <td>2.188905e-16</td>\n",
       "      <td>6.946425e-16</td>\n",
       "      <td>-6.614745e-16</td>\n",
       "      <td>-1.600939e-16</td>\n",
       "      <td>1.000000e+00</td>\n",
       "      <td>-1.571269e-16</td>\n",
       "      <td>3.641428e-17</td>\n",
       "    </tr>\n",
       "    <tr>\n",
       "      <th>5</th>\n",
       "      <td>-3.889825e-17</td>\n",
       "      <td>-4.602163e-17</td>\n",
       "      <td>-4.262245e-17</td>\n",
       "      <td>9.697811e-19</td>\n",
       "      <td>-1.571269e-16</td>\n",
       "      <td>1.000000e+00</td>\n",
       "      <td>-2.938290e-16</td>\n",
       "    </tr>\n",
       "    <tr>\n",
       "      <th>6</th>\n",
       "      <td>6.646823e-18</td>\n",
       "      <td>-1.994917e-16</td>\n",
       "      <td>-1.092146e-16</td>\n",
       "      <td>-7.333036e-17</td>\n",
       "      <td>3.641428e-17</td>\n",
       "      <td>-2.938290e-16</td>\n",
       "      <td>1.000000e+00</td>\n",
       "    </tr>\n",
       "  </tbody>\n",
       "</table>\n",
       "</div>"
      ],
      "text/plain": [
       "              0             1             2             3             4  \\\n",
       "0  1.000000e+00  3.556555e-17  8.637761e-17  5.104825e-16  2.188905e-16   \n",
       "1  3.556555e-17  1.000000e+00  5.855626e-16  6.599001e-16  6.946425e-16   \n",
       "2  8.637761e-17  5.855626e-16  1.000000e+00 -4.873844e-16 -6.614745e-16   \n",
       "3  5.104825e-16  6.599001e-16 -4.873844e-16  1.000000e+00 -1.600939e-16   \n",
       "4  2.188905e-16  6.946425e-16 -6.614745e-16 -1.600939e-16  1.000000e+00   \n",
       "5 -3.889825e-17 -4.602163e-17 -4.262245e-17  9.697811e-19 -1.571269e-16   \n",
       "6  6.646823e-18 -1.994917e-16 -1.092146e-16 -7.333036e-17  3.641428e-17   \n",
       "\n",
       "              5             6  \n",
       "0 -3.889825e-17  6.646823e-18  \n",
       "1 -4.602163e-17 -1.994917e-16  \n",
       "2 -4.262245e-17 -1.092146e-16  \n",
       "3  9.697811e-19 -7.333036e-17  \n",
       "4 -1.571269e-16  3.641428e-17  \n",
       "5  1.000000e+00 -2.938290e-16  \n",
       "6 -2.938290e-16  1.000000e+00  "
      ]
     },
     "execution_count": 43,
     "metadata": {},
     "output_type": "execute_result"
    }
   ],
   "source": [
    "## Notice that the principal components doesn't exhibhit any correlation.\n",
    "## correlation among the principal components is dead Zero. \n",
    "x_df.corr()"
   ]
  },
  {
   "cell_type": "code",
   "execution_count": 44,
   "metadata": {},
   "outputs": [],
   "source": [
    "## Train and test split of data\n",
    "x_train, x_test, y_train, y_test = train_test_split(x_df, y, test_size = 0.2, random_state = 123)"
   ]
  },
  {
   "cell_type": "code",
   "execution_count": 45,
   "metadata": {},
   "outputs": [
    {
     "data": {
      "text/plain": [
       "LogisticRegression()"
      ]
     },
     "execution_count": 45,
     "metadata": {},
     "output_type": "execute_result"
    }
   ],
   "source": [
    "lg = LogisticRegression()\n",
    "lg.fit(x_train, y_train)"
   ]
  },
  {
   "cell_type": "code",
   "execution_count": 46,
   "metadata": {},
   "outputs": [],
   "source": [
    "\n",
    "pred = lg.predict(x_test)"
   ]
  },
  {
   "cell_type": "code",
   "execution_count": 47,
   "metadata": {},
   "outputs": [
    {
     "name": "stdout",
     "output_type": "stream",
     "text": [
      "[[224  10]\n",
      " [ 66  25]]\n",
      "0.7661538461538462\n"
     ]
    }
   ],
   "source": [
    "print(confusion_matrix(y_test, pred))\n",
    "print(accuracy_score(y_test, pred))"
   ]
  },
  {
   "cell_type": "markdown",
   "metadata": {},
   "source": [
    "## Final inference\n",
    "    1. The first 7 princiapal components gave same or better accuracy than the model with original variables \n",
    "    2. The principal components model is better becoz the principal components are truly independent from eahc other without multicollinearity \n",
    "    3. Generalizes well and simplicity(less number of features) "
   ]
  },
  {
   "cell_type": "code",
   "execution_count": null,
   "metadata": {},
   "outputs": [],
   "source": []
  }
 ],
 "metadata": {
  "kernelspec": {
   "display_name": "Python 3",
   "language": "python",
   "name": "python3"
  },
  "language_info": {
   "codemirror_mode": {
    "name": "ipython",
    "version": 3
   },
   "file_extension": ".py",
   "mimetype": "text/x-python",
   "name": "python",
   "nbconvert_exporter": "python",
   "pygments_lexer": "ipython3",
   "version": "3.7.6"
  }
 },
 "nbformat": 4,
 "nbformat_minor": 4
}
